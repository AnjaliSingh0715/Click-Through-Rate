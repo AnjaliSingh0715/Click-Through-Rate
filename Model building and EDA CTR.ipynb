{
 "cells": [
  {
   "cell_type": "code",
   "execution_count": 241,
   "id": "cf9a0a98",
   "metadata": {},
   "outputs": [],
   "source": [
    "import pandas as pd \n",
    "import numpy as np\n",
    "import seaborn as sns\n",
    "import matplotlib.pyplot as plt\n"
   ]
  },
  {
   "cell_type": "code",
   "execution_count": 242,
   "id": "dce4a1a6",
   "metadata": {},
   "outputs": [],
   "source": [
    "data = pd.read_csv('train_F3fUq2S.csv')"
   ]
  },
  {
   "cell_type": "code",
   "execution_count": 243,
   "id": "757217e0",
   "metadata": {},
   "outputs": [
    {
     "data": {
      "text/html": [
       "<div>\n",
       "<style scoped>\n",
       "    .dataframe tbody tr th:only-of-type {\n",
       "        vertical-align: middle;\n",
       "    }\n",
       "\n",
       "    .dataframe tbody tr th {\n",
       "        vertical-align: top;\n",
       "    }\n",
       "\n",
       "    .dataframe thead th {\n",
       "        text-align: right;\n",
       "    }\n",
       "</style>\n",
       "<table border=\"1\" class=\"dataframe\">\n",
       "  <thead>\n",
       "    <tr style=\"text-align: right;\">\n",
       "      <th></th>\n",
       "      <th>campaign_id</th>\n",
       "      <th>sender</th>\n",
       "      <th>subject_len</th>\n",
       "      <th>body_len</th>\n",
       "      <th>mean_paragraph_len</th>\n",
       "      <th>day_of_week</th>\n",
       "      <th>is_weekend</th>\n",
       "      <th>times_of_day</th>\n",
       "      <th>category</th>\n",
       "      <th>product</th>\n",
       "      <th>...</th>\n",
       "      <th>is_image</th>\n",
       "      <th>is_personalised</th>\n",
       "      <th>is_quote</th>\n",
       "      <th>is_timer</th>\n",
       "      <th>is_emoticons</th>\n",
       "      <th>is_discount</th>\n",
       "      <th>is_price</th>\n",
       "      <th>is_urgency</th>\n",
       "      <th>target_audience</th>\n",
       "      <th>click_rate</th>\n",
       "    </tr>\n",
       "  </thead>\n",
       "  <tbody>\n",
       "    <tr>\n",
       "      <th>0</th>\n",
       "      <td>1</td>\n",
       "      <td>3</td>\n",
       "      <td>76</td>\n",
       "      <td>10439</td>\n",
       "      <td>39</td>\n",
       "      <td>5</td>\n",
       "      <td>1</td>\n",
       "      <td>Noon</td>\n",
       "      <td>6</td>\n",
       "      <td>26</td>\n",
       "      <td>...</td>\n",
       "      <td>0</td>\n",
       "      <td>0</td>\n",
       "      <td>0</td>\n",
       "      <td>0</td>\n",
       "      <td>0</td>\n",
       "      <td>0</td>\n",
       "      <td>0</td>\n",
       "      <td>0</td>\n",
       "      <td>14</td>\n",
       "      <td>0.103079</td>\n",
       "    </tr>\n",
       "    <tr>\n",
       "      <th>1</th>\n",
       "      <td>2</td>\n",
       "      <td>3</td>\n",
       "      <td>54</td>\n",
       "      <td>2570</td>\n",
       "      <td>256</td>\n",
       "      <td>5</td>\n",
       "      <td>1</td>\n",
       "      <td>Morning</td>\n",
       "      <td>2</td>\n",
       "      <td>11</td>\n",
       "      <td>...</td>\n",
       "      <td>0</td>\n",
       "      <td>0</td>\n",
       "      <td>0</td>\n",
       "      <td>0</td>\n",
       "      <td>0</td>\n",
       "      <td>0</td>\n",
       "      <td>0</td>\n",
       "      <td>0</td>\n",
       "      <td>10</td>\n",
       "      <td>0.700000</td>\n",
       "    </tr>\n",
       "    <tr>\n",
       "      <th>2</th>\n",
       "      <td>3</td>\n",
       "      <td>3</td>\n",
       "      <td>59</td>\n",
       "      <td>12801</td>\n",
       "      <td>16</td>\n",
       "      <td>5</td>\n",
       "      <td>1</td>\n",
       "      <td>Noon</td>\n",
       "      <td>2</td>\n",
       "      <td>11</td>\n",
       "      <td>...</td>\n",
       "      <td>1</td>\n",
       "      <td>0</td>\n",
       "      <td>1</td>\n",
       "      <td>0</td>\n",
       "      <td>0</td>\n",
       "      <td>0</td>\n",
       "      <td>0</td>\n",
       "      <td>0</td>\n",
       "      <td>16</td>\n",
       "      <td>0.002769</td>\n",
       "    </tr>\n",
       "    <tr>\n",
       "      <th>3</th>\n",
       "      <td>4</td>\n",
       "      <td>3</td>\n",
       "      <td>74</td>\n",
       "      <td>11037</td>\n",
       "      <td>30</td>\n",
       "      <td>4</td>\n",
       "      <td>0</td>\n",
       "      <td>Evening</td>\n",
       "      <td>15</td>\n",
       "      <td>9</td>\n",
       "      <td>...</td>\n",
       "      <td>0</td>\n",
       "      <td>0</td>\n",
       "      <td>0</td>\n",
       "      <td>0</td>\n",
       "      <td>0</td>\n",
       "      <td>0</td>\n",
       "      <td>0</td>\n",
       "      <td>0</td>\n",
       "      <td>10</td>\n",
       "      <td>0.010868</td>\n",
       "    </tr>\n",
       "    <tr>\n",
       "      <th>4</th>\n",
       "      <td>5</td>\n",
       "      <td>3</td>\n",
       "      <td>80</td>\n",
       "      <td>10011</td>\n",
       "      <td>27</td>\n",
       "      <td>5</td>\n",
       "      <td>1</td>\n",
       "      <td>Noon</td>\n",
       "      <td>6</td>\n",
       "      <td>26</td>\n",
       "      <td>...</td>\n",
       "      <td>0</td>\n",
       "      <td>0</td>\n",
       "      <td>1</td>\n",
       "      <td>0</td>\n",
       "      <td>0</td>\n",
       "      <td>0</td>\n",
       "      <td>0</td>\n",
       "      <td>0</td>\n",
       "      <td>14</td>\n",
       "      <td>0.142826</td>\n",
       "    </tr>\n",
       "  </tbody>\n",
       "</table>\n",
       "<p>5 rows × 22 columns</p>\n",
       "</div>"
      ],
      "text/plain": [
       "   campaign_id  sender  subject_len  body_len  mean_paragraph_len  \\\n",
       "0            1       3           76     10439                  39   \n",
       "1            2       3           54      2570                 256   \n",
       "2            3       3           59     12801                  16   \n",
       "3            4       3           74     11037                  30   \n",
       "4            5       3           80     10011                  27   \n",
       "\n",
       "   day_of_week  is_weekend times_of_day  category  product  ...  is_image  \\\n",
       "0            5           1         Noon         6       26  ...         0   \n",
       "1            5           1      Morning         2       11  ...         0   \n",
       "2            5           1         Noon         2       11  ...         1   \n",
       "3            4           0      Evening        15        9  ...         0   \n",
       "4            5           1         Noon         6       26  ...         0   \n",
       "\n",
       "   is_personalised  is_quote  is_timer  is_emoticons  is_discount  is_price  \\\n",
       "0                0         0         0             0            0         0   \n",
       "1                0         0         0             0            0         0   \n",
       "2                0         1         0             0            0         0   \n",
       "3                0         0         0             0            0         0   \n",
       "4                0         1         0             0            0         0   \n",
       "\n",
       "   is_urgency  target_audience  click_rate  \n",
       "0           0               14    0.103079  \n",
       "1           0               10    0.700000  \n",
       "2           0               16    0.002769  \n",
       "3           0               10    0.010868  \n",
       "4           0               14    0.142826  \n",
       "\n",
       "[5 rows x 22 columns]"
      ]
     },
     "execution_count": 243,
     "metadata": {},
     "output_type": "execute_result"
    }
   ],
   "source": [
    "data.head()"
   ]
  },
  {
   "cell_type": "code",
   "execution_count": 244,
   "id": "690728b4",
   "metadata": {},
   "outputs": [
    {
     "data": {
      "text/plain": [
       "(1888, 22)"
      ]
     },
     "execution_count": 244,
     "metadata": {},
     "output_type": "execute_result"
    }
   ],
   "source": [
    "data.shape"
   ]
  },
  {
   "cell_type": "code",
   "execution_count": 161,
   "id": "c626beef",
   "metadata": {},
   "outputs": [
    {
     "data": {
      "text/html": [
       "<div>\n",
       "<style scoped>\n",
       "    .dataframe tbody tr th:only-of-type {\n",
       "        vertical-align: middle;\n",
       "    }\n",
       "\n",
       "    .dataframe tbody tr th {\n",
       "        vertical-align: top;\n",
       "    }\n",
       "\n",
       "    .dataframe thead th {\n",
       "        text-align: right;\n",
       "    }\n",
       "</style>\n",
       "<table border=\"1\" class=\"dataframe\">\n",
       "  <thead>\n",
       "    <tr style=\"text-align: right;\">\n",
       "      <th></th>\n",
       "      <th>campaign_id</th>\n",
       "      <th>sender</th>\n",
       "      <th>subject_len</th>\n",
       "      <th>body_len</th>\n",
       "      <th>mean_paragraph_len</th>\n",
       "      <th>day_of_week</th>\n",
       "      <th>is_weekend</th>\n",
       "      <th>category</th>\n",
       "      <th>product</th>\n",
       "      <th>no_of_CTA</th>\n",
       "      <th>...</th>\n",
       "      <th>is_image</th>\n",
       "      <th>is_personalised</th>\n",
       "      <th>is_quote</th>\n",
       "      <th>is_timer</th>\n",
       "      <th>is_emoticons</th>\n",
       "      <th>is_discount</th>\n",
       "      <th>is_price</th>\n",
       "      <th>is_urgency</th>\n",
       "      <th>target_audience</th>\n",
       "      <th>click_rate</th>\n",
       "    </tr>\n",
       "  </thead>\n",
       "  <tbody>\n",
       "    <tr>\n",
       "      <th>count</th>\n",
       "      <td>1888.000000</td>\n",
       "      <td>1888.000000</td>\n",
       "      <td>1888.000000</td>\n",
       "      <td>1888.000000</td>\n",
       "      <td>1888.000000</td>\n",
       "      <td>1888.000000</td>\n",
       "      <td>1888.000000</td>\n",
       "      <td>1888.000000</td>\n",
       "      <td>1888.000000</td>\n",
       "      <td>1888.000000</td>\n",
       "      <td>...</td>\n",
       "      <td>1888.000000</td>\n",
       "      <td>1888.000000</td>\n",
       "      <td>1888.000000</td>\n",
       "      <td>1888.0</td>\n",
       "      <td>1888.000000</td>\n",
       "      <td>1888.000000</td>\n",
       "      <td>1888.000000</td>\n",
       "      <td>1888.000000</td>\n",
       "      <td>1888.000000</td>\n",
       "      <td>1888.000000</td>\n",
       "    </tr>\n",
       "    <tr>\n",
       "      <th>mean</th>\n",
       "      <td>944.500000</td>\n",
       "      <td>4.395657</td>\n",
       "      <td>86.246292</td>\n",
       "      <td>14185.780191</td>\n",
       "      <td>35.239407</td>\n",
       "      <td>2.828390</td>\n",
       "      <td>0.199682</td>\n",
       "      <td>9.949682</td>\n",
       "      <td>17.525424</td>\n",
       "      <td>4.222458</td>\n",
       "      <td>...</td>\n",
       "      <td>0.909958</td>\n",
       "      <td>0.056674</td>\n",
       "      <td>0.834216</td>\n",
       "      <td>0.0</td>\n",
       "      <td>0.210805</td>\n",
       "      <td>0.039725</td>\n",
       "      <td>40.197034</td>\n",
       "      <td>0.112288</td>\n",
       "      <td>11.634534</td>\n",
       "      <td>0.041888</td>\n",
       "    </tr>\n",
       "    <tr>\n",
       "      <th>std</th>\n",
       "      <td>545.162973</td>\n",
       "      <td>3.277927</td>\n",
       "      <td>30.143206</td>\n",
       "      <td>7327.615307</td>\n",
       "      <td>28.139498</td>\n",
       "      <td>1.763193</td>\n",
       "      <td>0.399867</td>\n",
       "      <td>5.300719</td>\n",
       "      <td>12.369526</td>\n",
       "      <td>4.628348</td>\n",
       "      <td>...</td>\n",
       "      <td>0.866467</td>\n",
       "      <td>0.231279</td>\n",
       "      <td>1.033901</td>\n",
       "      <td>0.0</td>\n",
       "      <td>0.613442</td>\n",
       "      <td>0.195363</td>\n",
       "      <td>553.957470</td>\n",
       "      <td>0.315804</td>\n",
       "      <td>2.949121</td>\n",
       "      <td>0.084223</td>\n",
       "    </tr>\n",
       "    <tr>\n",
       "      <th>min</th>\n",
       "      <td>1.000000</td>\n",
       "      <td>0.000000</td>\n",
       "      <td>9.000000</td>\n",
       "      <td>23.000000</td>\n",
       "      <td>4.000000</td>\n",
       "      <td>0.000000</td>\n",
       "      <td>0.000000</td>\n",
       "      <td>0.000000</td>\n",
       "      <td>0.000000</td>\n",
       "      <td>0.000000</td>\n",
       "      <td>...</td>\n",
       "      <td>0.000000</td>\n",
       "      <td>0.000000</td>\n",
       "      <td>0.000000</td>\n",
       "      <td>0.0</td>\n",
       "      <td>0.000000</td>\n",
       "      <td>0.000000</td>\n",
       "      <td>0.000000</td>\n",
       "      <td>0.000000</td>\n",
       "      <td>0.000000</td>\n",
       "      <td>0.000000</td>\n",
       "    </tr>\n",
       "    <tr>\n",
       "      <th>25%</th>\n",
       "      <td>472.750000</td>\n",
       "      <td>3.000000</td>\n",
       "      <td>69.000000</td>\n",
       "      <td>9554.500000</td>\n",
       "      <td>21.000000</td>\n",
       "      <td>1.000000</td>\n",
       "      <td>0.000000</td>\n",
       "      <td>6.000000</td>\n",
       "      <td>9.000000</td>\n",
       "      <td>2.000000</td>\n",
       "      <td>...</td>\n",
       "      <td>0.000000</td>\n",
       "      <td>0.000000</td>\n",
       "      <td>0.000000</td>\n",
       "      <td>0.0</td>\n",
       "      <td>0.000000</td>\n",
       "      <td>0.000000</td>\n",
       "      <td>0.000000</td>\n",
       "      <td>0.000000</td>\n",
       "      <td>12.000000</td>\n",
       "      <td>0.005413</td>\n",
       "    </tr>\n",
       "    <tr>\n",
       "      <th>50%</th>\n",
       "      <td>944.500000</td>\n",
       "      <td>3.000000</td>\n",
       "      <td>83.000000</td>\n",
       "      <td>12689.000000</td>\n",
       "      <td>29.000000</td>\n",
       "      <td>3.000000</td>\n",
       "      <td>0.000000</td>\n",
       "      <td>10.000000</td>\n",
       "      <td>12.000000</td>\n",
       "      <td>3.000000</td>\n",
       "      <td>...</td>\n",
       "      <td>1.000000</td>\n",
       "      <td>0.000000</td>\n",
       "      <td>1.000000</td>\n",
       "      <td>0.0</td>\n",
       "      <td>0.000000</td>\n",
       "      <td>0.000000</td>\n",
       "      <td>0.000000</td>\n",
       "      <td>0.000000</td>\n",
       "      <td>12.000000</td>\n",
       "      <td>0.010686</td>\n",
       "    </tr>\n",
       "    <tr>\n",
       "      <th>75%</th>\n",
       "      <td>1416.250000</td>\n",
       "      <td>3.000000</td>\n",
       "      <td>98.000000</td>\n",
       "      <td>17351.500000</td>\n",
       "      <td>40.000000</td>\n",
       "      <td>4.000000</td>\n",
       "      <td>0.000000</td>\n",
       "      <td>15.000000</td>\n",
       "      <td>27.250000</td>\n",
       "      <td>5.000000</td>\n",
       "      <td>...</td>\n",
       "      <td>2.000000</td>\n",
       "      <td>0.000000</td>\n",
       "      <td>1.000000</td>\n",
       "      <td>0.0</td>\n",
       "      <td>0.000000</td>\n",
       "      <td>0.000000</td>\n",
       "      <td>0.000000</td>\n",
       "      <td>0.000000</td>\n",
       "      <td>12.000000</td>\n",
       "      <td>0.035589</td>\n",
       "    </tr>\n",
       "    <tr>\n",
       "      <th>max</th>\n",
       "      <td>1888.000000</td>\n",
       "      <td>15.000000</td>\n",
       "      <td>265.000000</td>\n",
       "      <td>44491.000000</td>\n",
       "      <td>286.000000</td>\n",
       "      <td>6.000000</td>\n",
       "      <td>1.000000</td>\n",
       "      <td>15.000000</td>\n",
       "      <td>43.000000</td>\n",
       "      <td>49.000000</td>\n",
       "      <td>...</td>\n",
       "      <td>6.000000</td>\n",
       "      <td>1.000000</td>\n",
       "      <td>6.000000</td>\n",
       "      <td>0.0</td>\n",
       "      <td>6.000000</td>\n",
       "      <td>1.000000</td>\n",
       "      <td>14999.000000</td>\n",
       "      <td>1.000000</td>\n",
       "      <td>16.000000</td>\n",
       "      <td>0.897959</td>\n",
       "    </tr>\n",
       "  </tbody>\n",
       "</table>\n",
       "<p>8 rows × 21 columns</p>\n",
       "</div>"
      ],
      "text/plain": [
       "       campaign_id       sender  subject_len      body_len  \\\n",
       "count  1888.000000  1888.000000  1888.000000   1888.000000   \n",
       "mean    944.500000     4.395657    86.246292  14185.780191   \n",
       "std     545.162973     3.277927    30.143206   7327.615307   \n",
       "min       1.000000     0.000000     9.000000     23.000000   \n",
       "25%     472.750000     3.000000    69.000000   9554.500000   \n",
       "50%     944.500000     3.000000    83.000000  12689.000000   \n",
       "75%    1416.250000     3.000000    98.000000  17351.500000   \n",
       "max    1888.000000    15.000000   265.000000  44491.000000   \n",
       "\n",
       "       mean_paragraph_len  day_of_week   is_weekend     category      product  \\\n",
       "count         1888.000000  1888.000000  1888.000000  1888.000000  1888.000000   \n",
       "mean            35.239407     2.828390     0.199682     9.949682    17.525424   \n",
       "std             28.139498     1.763193     0.399867     5.300719    12.369526   \n",
       "min              4.000000     0.000000     0.000000     0.000000     0.000000   \n",
       "25%             21.000000     1.000000     0.000000     6.000000     9.000000   \n",
       "50%             29.000000     3.000000     0.000000    10.000000    12.000000   \n",
       "75%             40.000000     4.000000     0.000000    15.000000    27.250000   \n",
       "max            286.000000     6.000000     1.000000    15.000000    43.000000   \n",
       "\n",
       "         no_of_CTA  ...     is_image  is_personalised     is_quote  is_timer  \\\n",
       "count  1888.000000  ...  1888.000000      1888.000000  1888.000000    1888.0   \n",
       "mean      4.222458  ...     0.909958         0.056674     0.834216       0.0   \n",
       "std       4.628348  ...     0.866467         0.231279     1.033901       0.0   \n",
       "min       0.000000  ...     0.000000         0.000000     0.000000       0.0   \n",
       "25%       2.000000  ...     0.000000         0.000000     0.000000       0.0   \n",
       "50%       3.000000  ...     1.000000         0.000000     1.000000       0.0   \n",
       "75%       5.000000  ...     2.000000         0.000000     1.000000       0.0   \n",
       "max      49.000000  ...     6.000000         1.000000     6.000000       0.0   \n",
       "\n",
       "       is_emoticons  is_discount      is_price   is_urgency  target_audience  \\\n",
       "count   1888.000000  1888.000000   1888.000000  1888.000000      1888.000000   \n",
       "mean       0.210805     0.039725     40.197034     0.112288        11.634534   \n",
       "std        0.613442     0.195363    553.957470     0.315804         2.949121   \n",
       "min        0.000000     0.000000      0.000000     0.000000         0.000000   \n",
       "25%        0.000000     0.000000      0.000000     0.000000        12.000000   \n",
       "50%        0.000000     0.000000      0.000000     0.000000        12.000000   \n",
       "75%        0.000000     0.000000      0.000000     0.000000        12.000000   \n",
       "max        6.000000     1.000000  14999.000000     1.000000        16.000000   \n",
       "\n",
       "        click_rate  \n",
       "count  1888.000000  \n",
       "mean      0.041888  \n",
       "std       0.084223  \n",
       "min       0.000000  \n",
       "25%       0.005413  \n",
       "50%       0.010686  \n",
       "75%       0.035589  \n",
       "max       0.897959  \n",
       "\n",
       "[8 rows x 21 columns]"
      ]
     },
     "execution_count": 161,
     "metadata": {},
     "output_type": "execute_result"
    }
   ],
   "source": [
    "data.describe()"
   ]
  },
  {
   "cell_type": "code",
   "execution_count": 162,
   "id": "c2375290",
   "metadata": {},
   "outputs": [
    {
     "name": "stdout",
     "output_type": "stream",
     "text": [
      "<class 'pandas.core.frame.DataFrame'>\n",
      "RangeIndex: 1888 entries, 0 to 1887\n",
      "Data columns (total 22 columns):\n",
      " #   Column              Non-Null Count  Dtype  \n",
      "---  ------              --------------  -----  \n",
      " 0   campaign_id         1888 non-null   int64  \n",
      " 1   sender              1888 non-null   int64  \n",
      " 2   subject_len         1888 non-null   int64  \n",
      " 3   body_len            1888 non-null   int64  \n",
      " 4   mean_paragraph_len  1888 non-null   int64  \n",
      " 5   day_of_week         1888 non-null   int64  \n",
      " 6   is_weekend          1888 non-null   int64  \n",
      " 7   times_of_day        1888 non-null   object \n",
      " 8   category            1888 non-null   int64  \n",
      " 9   product             1888 non-null   int64  \n",
      " 10  no_of_CTA           1888 non-null   int64  \n",
      " 11  mean_CTA_len        1888 non-null   int64  \n",
      " 12  is_image            1888 non-null   int64  \n",
      " 13  is_personalised     1888 non-null   int64  \n",
      " 14  is_quote            1888 non-null   int64  \n",
      " 15  is_timer            1888 non-null   int64  \n",
      " 16  is_emoticons        1888 non-null   int64  \n",
      " 17  is_discount         1888 non-null   int64  \n",
      " 18  is_price            1888 non-null   int64  \n",
      " 19  is_urgency          1888 non-null   int64  \n",
      " 20  target_audience     1888 non-null   int64  \n",
      " 21  click_rate          1888 non-null   float64\n",
      "dtypes: float64(1), int64(20), object(1)\n",
      "memory usage: 324.6+ KB\n"
     ]
    }
   ],
   "source": [
    "data.info()"
   ]
  },
  {
   "cell_type": "code",
   "execution_count": 163,
   "id": "7d6fffa2",
   "metadata": {},
   "outputs": [
    {
     "data": {
      "text/plain": [
       "campaign_id           0\n",
       "sender                0\n",
       "subject_len           0\n",
       "body_len              0\n",
       "mean_paragraph_len    0\n",
       "day_of_week           0\n",
       "is_weekend            0\n",
       "times_of_day          0\n",
       "category              0\n",
       "product               0\n",
       "no_of_CTA             0\n",
       "mean_CTA_len          0\n",
       "is_image              0\n",
       "is_personalised       0\n",
       "is_quote              0\n",
       "is_timer              0\n",
       "is_emoticons          0\n",
       "is_discount           0\n",
       "is_price              0\n",
       "is_urgency            0\n",
       "target_audience       0\n",
       "click_rate            0\n",
       "dtype: int64"
      ]
     },
     "execution_count": 163,
     "metadata": {},
     "output_type": "execute_result"
    }
   ],
   "source": [
    "data.isna().sum()"
   ]
  },
  {
   "cell_type": "code",
   "execution_count": 164,
   "id": "9d9f05f8",
   "metadata": {},
   "outputs": [
    {
     "name": "stdout",
     "output_type": "stream",
     "text": [
      "^C\n"
     ]
    }
   ],
   "source": [
    "!pip install sweetviz"
   ]
  },
  {
   "cell_type": "code",
   "execution_count": 165,
   "id": "f214499c",
   "metadata": {},
   "outputs": [],
   "source": [
    "import sweetviz as sv"
   ]
  },
  {
   "cell_type": "code",
   "execution_count": 166,
   "id": "5b126a2a",
   "metadata": {},
   "outputs": [
    {
     "data": {
      "application/vnd.jupyter.widget-view+json": {
       "model_id": "c265b51431fb416ba93eb8abc9dcabe4",
       "version_major": 2,
       "version_minor": 0
      },
      "text/plain": [
       "                                             |                                             | [  0%]   00:00 ->…"
      ]
     },
     "metadata": {},
     "output_type": "display_data"
    },
    {
     "ename": "KeyboardInterrupt",
     "evalue": "",
     "output_type": "error",
     "traceback": [
      "\u001b[1;31m---------------------------------------------------------------------------\u001b[0m",
      "\u001b[1;31mAttributeError\u001b[0m                            Traceback (most recent call last)",
      "\u001b[1;32m~\\anaconda3\\lib\\site-packages\\PIL\\ImageFile.py\u001b[0m in \u001b[0;36m_save\u001b[1;34m(im, fp, tile, bufsize)\u001b[0m\n\u001b[0;32m    499\u001b[0m     \u001b[1;32mtry\u001b[0m\u001b[1;33m:\u001b[0m\u001b[1;33m\u001b[0m\u001b[1;33m\u001b[0m\u001b[0m\n\u001b[1;32m--> 500\u001b[1;33m         \u001b[0mfh\u001b[0m \u001b[1;33m=\u001b[0m \u001b[0mfp\u001b[0m\u001b[1;33m.\u001b[0m\u001b[0mfileno\u001b[0m\u001b[1;33m(\u001b[0m\u001b[1;33m)\u001b[0m\u001b[1;33m\u001b[0m\u001b[1;33m\u001b[0m\u001b[0m\n\u001b[0m\u001b[0;32m    501\u001b[0m         \u001b[0mfp\u001b[0m\u001b[1;33m.\u001b[0m\u001b[0mflush\u001b[0m\u001b[1;33m(\u001b[0m\u001b[1;33m)\u001b[0m\u001b[1;33m\u001b[0m\u001b[1;33m\u001b[0m\u001b[0m\n",
      "\u001b[1;31mAttributeError\u001b[0m: '_idat' object has no attribute 'fileno'",
      "\nDuring handling of the above exception, another exception occurred:\n",
      "\u001b[1;31mKeyboardInterrupt\u001b[0m                         Traceback (most recent call last)",
      "\u001b[1;32m<ipython-input-166-ec483c2edc72>\u001b[0m in \u001b[0;36m<module>\u001b[1;34m\u001b[0m\n\u001b[1;32m----> 1\u001b[1;33m \u001b[0manalyze_report\u001b[0m \u001b[1;33m=\u001b[0m \u001b[0msv\u001b[0m\u001b[1;33m.\u001b[0m\u001b[0manalyze\u001b[0m\u001b[1;33m(\u001b[0m\u001b[0mdata\u001b[0m\u001b[1;33m)\u001b[0m\u001b[1;33m\u001b[0m\u001b[1;33m\u001b[0m\u001b[0m\n\u001b[0m\u001b[0;32m      2\u001b[0m \u001b[0manalyze_report\u001b[0m\u001b[1;33m.\u001b[0m\u001b[0mshow_html\u001b[0m\u001b[1;33m(\u001b[0m\u001b[1;34m'data.html'\u001b[0m\u001b[1;33m,\u001b[0m\u001b[0mopen_browser\u001b[0m \u001b[1;33m=\u001b[0m \u001b[1;32mFalse\u001b[0m\u001b[1;33m)\u001b[0m\u001b[1;33m\u001b[0m\u001b[1;33m\u001b[0m\u001b[0m\n",
      "\u001b[1;32m~\\anaconda3\\lib\\site-packages\\sweetviz\\sv_public.py\u001b[0m in \u001b[0;36manalyze\u001b[1;34m(source, target_feat, feat_cfg, pairwise_analysis)\u001b[0m\n\u001b[0;32m     10\u001b[0m             \u001b[0mfeat_cfg\u001b[0m\u001b[1;33m:\u001b[0m \u001b[0mFeatureConfig\u001b[0m \u001b[1;33m=\u001b[0m \u001b[1;32mNone\u001b[0m\u001b[1;33m,\u001b[0m\u001b[1;33m\u001b[0m\u001b[1;33m\u001b[0m\u001b[0m\n\u001b[0;32m     11\u001b[0m             pairwise_analysis: str = 'auto'):\n\u001b[1;32m---> 12\u001b[1;33m     report = sweetviz.DataframeReport(source, target_feat, None,\n\u001b[0m\u001b[0;32m     13\u001b[0m                                       pairwise_analysis, feat_cfg)\n\u001b[0;32m     14\u001b[0m     \u001b[1;32mreturn\u001b[0m \u001b[0mreport\u001b[0m\u001b[1;33m\u001b[0m\u001b[1;33m\u001b[0m\u001b[0m\n",
      "\u001b[1;32m~\\anaconda3\\lib\\site-packages\\sweetviz\\dataframe_report.py\u001b[0m in \u001b[0;36m__init__\u001b[1;34m(self, source, target_feature_name, compare, pairwise_analysis, fc)\u001b[0m\n\u001b[0;32m    254\u001b[0m             \u001b[1;31m# start = time.perf_counter()\u001b[0m\u001b[1;33m\u001b[0m\u001b[1;33m\u001b[0m\u001b[1;33m\u001b[0m\u001b[0m\n\u001b[0;32m    255\u001b[0m             \u001b[0mself\u001b[0m\u001b[1;33m.\u001b[0m\u001b[0mprogress_bar\u001b[0m\u001b[1;33m.\u001b[0m\u001b[0mset_description_str\u001b[0m\u001b[1;33m(\u001b[0m\u001b[1;34mf\"Feature: {f.source.name}\"\u001b[0m\u001b[1;33m)\u001b[0m\u001b[1;33m\u001b[0m\u001b[1;33m\u001b[0m\u001b[0m\n\u001b[1;32m--> 256\u001b[1;33m             \u001b[0mself\u001b[0m\u001b[1;33m.\u001b[0m\u001b[0m_features\u001b[0m\u001b[1;33m[\u001b[0m\u001b[0mf\u001b[0m\u001b[1;33m.\u001b[0m\u001b[0msource\u001b[0m\u001b[1;33m.\u001b[0m\u001b[0mname\u001b[0m\u001b[1;33m]\u001b[0m \u001b[1;33m=\u001b[0m \u001b[0msa\u001b[0m\u001b[1;33m.\u001b[0m\u001b[0manalyze_feature_to_dictionary\u001b[0m\u001b[1;33m(\u001b[0m\u001b[0mf\u001b[0m\u001b[1;33m)\u001b[0m\u001b[1;33m\u001b[0m\u001b[1;33m\u001b[0m\u001b[0m\n\u001b[0m\u001b[0;32m    257\u001b[0m             \u001b[0mself\u001b[0m\u001b[1;33m.\u001b[0m\u001b[0mprogress_bar\u001b[0m\u001b[1;33m.\u001b[0m\u001b[0mupdate\u001b[0m\u001b[1;33m(\u001b[0m\u001b[1;36m1\u001b[0m\u001b[1;33m)\u001b[0m\u001b[1;33m\u001b[0m\u001b[1;33m\u001b[0m\u001b[0m\n\u001b[0;32m    258\u001b[0m             \u001b[1;31m# print(f\"DONE FEATURE------> {f.source.name}\"\u001b[0m\u001b[1;33m\u001b[0m\u001b[1;33m\u001b[0m\u001b[1;33m\u001b[0m\u001b[0m\n",
      "\u001b[1;32m~\\anaconda3\\lib\\site-packages\\sweetviz\\series_analyzer.py\u001b[0m in \u001b[0;36manalyze_feature_to_dictionary\u001b[1;34m(to_process)\u001b[0m\n\u001b[0;32m    134\u001b[0m     \u001b[1;31m# Perform full analysis on source/compare/target\u001b[0m\u001b[1;33m\u001b[0m\u001b[1;33m\u001b[0m\u001b[1;33m\u001b[0m\u001b[0m\n\u001b[0;32m    135\u001b[0m     \u001b[1;32mif\u001b[0m \u001b[0mreturned_feature_dict\u001b[0m\u001b[1;33m[\u001b[0m\u001b[1;34m\"type\"\u001b[0m\u001b[1;33m]\u001b[0m \u001b[1;33m==\u001b[0m \u001b[0mFeatureType\u001b[0m\u001b[1;33m.\u001b[0m\u001b[0mTYPE_NUM\u001b[0m\u001b[1;33m:\u001b[0m\u001b[1;33m\u001b[0m\u001b[1;33m\u001b[0m\u001b[0m\n\u001b[1;32m--> 136\u001b[1;33m         \u001b[0msweetviz\u001b[0m\u001b[1;33m.\u001b[0m\u001b[0mseries_analyzer_numeric\u001b[0m\u001b[1;33m.\u001b[0m\u001b[0manalyze\u001b[0m\u001b[1;33m(\u001b[0m\u001b[0mto_process\u001b[0m\u001b[1;33m,\u001b[0m \u001b[0mreturned_feature_dict\u001b[0m\u001b[1;33m)\u001b[0m\u001b[1;33m\u001b[0m\u001b[1;33m\u001b[0m\u001b[0m\n\u001b[0m\u001b[0;32m    137\u001b[0m     \u001b[1;32melif\u001b[0m \u001b[0mreturned_feature_dict\u001b[0m\u001b[1;33m[\u001b[0m\u001b[1;34m\"type\"\u001b[0m\u001b[1;33m]\u001b[0m \u001b[1;33m==\u001b[0m \u001b[0mFeatureType\u001b[0m\u001b[1;33m.\u001b[0m\u001b[0mTYPE_CAT\u001b[0m\u001b[1;33m:\u001b[0m\u001b[1;33m\u001b[0m\u001b[1;33m\u001b[0m\u001b[0m\n\u001b[0;32m    138\u001b[0m         \u001b[0msweetviz\u001b[0m\u001b[1;33m.\u001b[0m\u001b[0mseries_analyzer_cat\u001b[0m\u001b[1;33m.\u001b[0m\u001b[0manalyze\u001b[0m\u001b[1;33m(\u001b[0m\u001b[0mto_process\u001b[0m\u001b[1;33m,\u001b[0m \u001b[0mreturned_feature_dict\u001b[0m\u001b[1;33m)\u001b[0m\u001b[1;33m\u001b[0m\u001b[1;33m\u001b[0m\u001b[0m\n",
      "\u001b[1;32m~\\anaconda3\\lib\\site-packages\\sweetviz\\series_analyzer_numeric.py\u001b[0m in \u001b[0;36manalyze\u001b[1;34m(to_process, feature_dict)\u001b[0m\n\u001b[0;32m    102\u001b[0m     \u001b[0mfeature_dict\u001b[0m\u001b[1;33m[\u001b[0m\u001b[1;34m\"detail_graphs\"\u001b[0m\u001b[1;33m]\u001b[0m \u001b[1;33m=\u001b[0m \u001b[0mlist\u001b[0m\u001b[1;33m(\u001b[0m\u001b[1;33m)\u001b[0m\u001b[1;33m\u001b[0m\u001b[1;33m\u001b[0m\u001b[0m\n\u001b[0;32m    103\u001b[0m     \u001b[1;32mfor\u001b[0m \u001b[0mnum_bins\u001b[0m \u001b[1;32min\u001b[0m \u001b[1;33m[\u001b[0m\u001b[1;36m0\u001b[0m\u001b[1;33m,\u001b[0m \u001b[1;36m5\u001b[0m\u001b[1;33m,\u001b[0m \u001b[1;36m15\u001b[0m\u001b[1;33m,\u001b[0m \u001b[1;36m30\u001b[0m\u001b[1;33m]\u001b[0m\u001b[1;33m:\u001b[0m\u001b[1;33m\u001b[0m\u001b[1;33m\u001b[0m\u001b[0m\n\u001b[1;32m--> 104\u001b[1;33m         \u001b[0mnew_graph\u001b[0m \u001b[1;33m=\u001b[0m \u001b[0mGraphNumeric\u001b[0m\u001b[1;33m(\u001b[0m\u001b[1;34m\"detail-\"\u001b[0m\u001b[1;33m+\u001b[0m\u001b[0mstr\u001b[0m\u001b[1;33m(\u001b[0m\u001b[0mnum_bins\u001b[0m\u001b[1;33m)\u001b[0m\u001b[1;33m,\u001b[0m \u001b[0mto_process\u001b[0m\u001b[1;33m)\u001b[0m\u001b[1;33m\u001b[0m\u001b[1;33m\u001b[0m\u001b[0m\n\u001b[0m\u001b[0;32m    105\u001b[0m         \u001b[1;32mif\u001b[0m \u001b[0mnew_graph\u001b[0m\u001b[1;33m:\u001b[0m\u001b[1;33m\u001b[0m\u001b[1;33m\u001b[0m\u001b[0m\n\u001b[0;32m    106\u001b[0m             \u001b[0mfeature_dict\u001b[0m\u001b[1;33m[\u001b[0m\u001b[1;34m\"detail_graphs\"\u001b[0m\u001b[1;33m]\u001b[0m\u001b[1;33m.\u001b[0m\u001b[0mappend\u001b[0m\u001b[1;33m(\u001b[0m\u001b[0mnew_graph\u001b[0m\u001b[1;33m)\u001b[0m\u001b[1;33m\u001b[0m\u001b[1;33m\u001b[0m\u001b[0m\n",
      "\u001b[1;32m~\\anaconda3\\lib\\site-packages\\sweetviz\\graph_numeric.py\u001b[0m in \u001b[0;36m__init__\u001b[1;34m(self, which_graph, to_process)\u001b[0m\n\u001b[0;32m    211\u001b[0m         plt.subplots_adjust(top=(1.0 - padding_fraction[0]), left=padding_fraction[1], \\\n\u001b[0;32m    212\u001b[0m                 bottom=padding_fraction[2], right=(1.0 - padding_fraction[3]))\n\u001b[1;32m--> 213\u001b[1;33m         \u001b[0mself\u001b[0m\u001b[1;33m.\u001b[0m\u001b[0mgraph_base64\u001b[0m \u001b[1;33m=\u001b[0m \u001b[0mself\u001b[0m\u001b[1;33m.\u001b[0m\u001b[0mget_encoded_base64\u001b[0m\u001b[1;33m(\u001b[0m\u001b[0mf\u001b[0m\u001b[1;33m)\u001b[0m\u001b[1;33m\u001b[0m\u001b[1;33m\u001b[0m\u001b[0m\n\u001b[0m\u001b[0;32m    214\u001b[0m         \u001b[0mplt\u001b[0m\u001b[1;33m.\u001b[0m\u001b[0mclose\u001b[0m\u001b[1;33m(\u001b[0m\u001b[1;34m'all'\u001b[0m\u001b[1;33m)\u001b[0m\u001b[1;33m\u001b[0m\u001b[1;33m\u001b[0m\u001b[0m\n\u001b[0;32m    215\u001b[0m         \u001b[1;31m#plt.close(f)\u001b[0m\u001b[1;33m\u001b[0m\u001b[1;33m\u001b[0m\u001b[1;33m\u001b[0m\u001b[0m\n",
      "\u001b[1;32m~\\anaconda3\\lib\\site-packages\\sweetviz\\graph.py\u001b[0m in \u001b[0;36mget_encoded_base64\u001b[1;34m(figure)\u001b[0m\n\u001b[0;32m     31\u001b[0m     \u001b[1;32mdef\u001b[0m \u001b[0mget_encoded_base64\u001b[0m\u001b[1;33m(\u001b[0m\u001b[0mfigure\u001b[0m\u001b[1;33m)\u001b[0m\u001b[1;33m:\u001b[0m\u001b[1;33m\u001b[0m\u001b[1;33m\u001b[0m\u001b[0m\n\u001b[0;32m     32\u001b[0m         \u001b[0mas_raw_bytes\u001b[0m \u001b[1;33m=\u001b[0m \u001b[0mBytesIO\u001b[0m\u001b[1;33m(\u001b[0m\u001b[1;33m)\u001b[0m\u001b[1;33m\u001b[0m\u001b[1;33m\u001b[0m\u001b[0m\n\u001b[1;32m---> 33\u001b[1;33m         \u001b[0mfigure\u001b[0m\u001b[1;33m.\u001b[0m\u001b[0msavefig\u001b[0m\u001b[1;33m(\u001b[0m\u001b[0mas_raw_bytes\u001b[0m\u001b[1;33m,\u001b[0m \u001b[0mformat\u001b[0m\u001b[1;33m=\u001b[0m\u001b[1;34m'png'\u001b[0m\u001b[1;33m,\u001b[0m \u001b[0mtransparent\u001b[0m\u001b[1;33m=\u001b[0m\u001b[1;32mTrue\u001b[0m\u001b[1;33m)\u001b[0m\u001b[1;33m\u001b[0m\u001b[1;33m\u001b[0m\u001b[0m\n\u001b[0m\u001b[0;32m     34\u001b[0m         \u001b[0mas_raw_bytes\u001b[0m\u001b[1;33m.\u001b[0m\u001b[0mseek\u001b[0m\u001b[1;33m(\u001b[0m\u001b[1;36m0\u001b[0m\u001b[1;33m)\u001b[0m\u001b[1;33m\u001b[0m\u001b[1;33m\u001b[0m\u001b[0m\n\u001b[0;32m     35\u001b[0m         \u001b[1;32mreturn\u001b[0m \u001b[0mbase64\u001b[0m\u001b[1;33m.\u001b[0m\u001b[0mb64encode\u001b[0m\u001b[1;33m(\u001b[0m\u001b[0mas_raw_bytes\u001b[0m\u001b[1;33m.\u001b[0m\u001b[0mread\u001b[0m\u001b[1;33m(\u001b[0m\u001b[1;33m)\u001b[0m\u001b[1;33m)\u001b[0m\u001b[1;33m\u001b[0m\u001b[1;33m\u001b[0m\u001b[0m\n",
      "\u001b[1;32m~\\anaconda3\\lib\\site-packages\\matplotlib\\figure.py\u001b[0m in \u001b[0;36msavefig\u001b[1;34m(self, fname, transparent, **kwargs)\u001b[0m\n\u001b[0;32m   2309\u001b[0m                 \u001b[0mpatch\u001b[0m\u001b[1;33m.\u001b[0m\u001b[0mset_edgecolor\u001b[0m\u001b[1;33m(\u001b[0m\u001b[1;34m'none'\u001b[0m\u001b[1;33m)\u001b[0m\u001b[1;33m\u001b[0m\u001b[1;33m\u001b[0m\u001b[0m\n\u001b[0;32m   2310\u001b[0m \u001b[1;33m\u001b[0m\u001b[0m\n\u001b[1;32m-> 2311\u001b[1;33m         \u001b[0mself\u001b[0m\u001b[1;33m.\u001b[0m\u001b[0mcanvas\u001b[0m\u001b[1;33m.\u001b[0m\u001b[0mprint_figure\u001b[0m\u001b[1;33m(\u001b[0m\u001b[0mfname\u001b[0m\u001b[1;33m,\u001b[0m \u001b[1;33m**\u001b[0m\u001b[0mkwargs\u001b[0m\u001b[1;33m)\u001b[0m\u001b[1;33m\u001b[0m\u001b[1;33m\u001b[0m\u001b[0m\n\u001b[0m\u001b[0;32m   2312\u001b[0m \u001b[1;33m\u001b[0m\u001b[0m\n\u001b[0;32m   2313\u001b[0m         \u001b[1;32mif\u001b[0m \u001b[0mtransparent\u001b[0m\u001b[1;33m:\u001b[0m\u001b[1;33m\u001b[0m\u001b[1;33m\u001b[0m\u001b[0m\n",
      "\u001b[1;32m~\\anaconda3\\lib\\site-packages\\matplotlib\\backend_bases.py\u001b[0m in \u001b[0;36mprint_figure\u001b[1;34m(self, filename, dpi, facecolor, edgecolor, orientation, format, bbox_inches, pad_inches, bbox_extra_artists, backend, **kwargs)\u001b[0m\n\u001b[0;32m   2208\u001b[0m \u001b[1;33m\u001b[0m\u001b[0m\n\u001b[0;32m   2209\u001b[0m             \u001b[1;32mtry\u001b[0m\u001b[1;33m:\u001b[0m\u001b[1;33m\u001b[0m\u001b[1;33m\u001b[0m\u001b[0m\n\u001b[1;32m-> 2210\u001b[1;33m                 result = print_method(\n\u001b[0m\u001b[0;32m   2211\u001b[0m                     \u001b[0mfilename\u001b[0m\u001b[1;33m,\u001b[0m\u001b[1;33m\u001b[0m\u001b[1;33m\u001b[0m\u001b[0m\n\u001b[0;32m   2212\u001b[0m                     \u001b[0mdpi\u001b[0m\u001b[1;33m=\u001b[0m\u001b[0mdpi\u001b[0m\u001b[1;33m,\u001b[0m\u001b[1;33m\u001b[0m\u001b[1;33m\u001b[0m\u001b[0m\n",
      "\u001b[1;32m~\\anaconda3\\lib\\site-packages\\matplotlib\\backend_bases.py\u001b[0m in \u001b[0;36mwrapper\u001b[1;34m(*args, **kwargs)\u001b[0m\n\u001b[0;32m   1637\u001b[0m             \u001b[0mkwargs\u001b[0m\u001b[1;33m.\u001b[0m\u001b[0mpop\u001b[0m\u001b[1;33m(\u001b[0m\u001b[0marg\u001b[0m\u001b[1;33m)\u001b[0m\u001b[1;33m\u001b[0m\u001b[1;33m\u001b[0m\u001b[0m\n\u001b[0;32m   1638\u001b[0m \u001b[1;33m\u001b[0m\u001b[0m\n\u001b[1;32m-> 1639\u001b[1;33m         \u001b[1;32mreturn\u001b[0m \u001b[0mfunc\u001b[0m\u001b[1;33m(\u001b[0m\u001b[1;33m*\u001b[0m\u001b[0margs\u001b[0m\u001b[1;33m,\u001b[0m \u001b[1;33m**\u001b[0m\u001b[0mkwargs\u001b[0m\u001b[1;33m)\u001b[0m\u001b[1;33m\u001b[0m\u001b[1;33m\u001b[0m\u001b[0m\n\u001b[0m\u001b[0;32m   1640\u001b[0m \u001b[1;33m\u001b[0m\u001b[0m\n\u001b[0;32m   1641\u001b[0m     \u001b[1;32mreturn\u001b[0m \u001b[0mwrapper\u001b[0m\u001b[1;33m\u001b[0m\u001b[1;33m\u001b[0m\u001b[0m\n",
      "\u001b[1;32m~\\anaconda3\\lib\\site-packages\\matplotlib\\backends\\backend_agg.py\u001b[0m in \u001b[0;36mprint_png\u001b[1;34m(self, filename_or_obj, metadata, pil_kwargs, *args)\u001b[0m\n\u001b[0;32m    508\u001b[0m         \"\"\"\n\u001b[0;32m    509\u001b[0m         \u001b[0mFigureCanvasAgg\u001b[0m\u001b[1;33m.\u001b[0m\u001b[0mdraw\u001b[0m\u001b[1;33m(\u001b[0m\u001b[0mself\u001b[0m\u001b[1;33m)\u001b[0m\u001b[1;33m\u001b[0m\u001b[1;33m\u001b[0m\u001b[0m\n\u001b[1;32m--> 510\u001b[1;33m         mpl.image.imsave(\n\u001b[0m\u001b[0;32m    511\u001b[0m             \u001b[0mfilename_or_obj\u001b[0m\u001b[1;33m,\u001b[0m \u001b[0mself\u001b[0m\u001b[1;33m.\u001b[0m\u001b[0mbuffer_rgba\u001b[0m\u001b[1;33m(\u001b[0m\u001b[1;33m)\u001b[0m\u001b[1;33m,\u001b[0m \u001b[0mformat\u001b[0m\u001b[1;33m=\u001b[0m\u001b[1;34m\"png\"\u001b[0m\u001b[1;33m,\u001b[0m \u001b[0morigin\u001b[0m\u001b[1;33m=\u001b[0m\u001b[1;34m\"upper\"\u001b[0m\u001b[1;33m,\u001b[0m\u001b[1;33m\u001b[0m\u001b[1;33m\u001b[0m\u001b[0m\n\u001b[0;32m    512\u001b[0m             dpi=self.figure.dpi, metadata=metadata, pil_kwargs=pil_kwargs)\n",
      "\u001b[1;32m~\\anaconda3\\lib\\site-packages\\matplotlib\\image.py\u001b[0m in \u001b[0;36mimsave\u001b[1;34m(fname, arr, vmin, vmax, cmap, format, origin, dpi, metadata, pil_kwargs)\u001b[0m\n\u001b[0;32m   1609\u001b[0m         \u001b[0mpil_kwargs\u001b[0m\u001b[1;33m.\u001b[0m\u001b[0msetdefault\u001b[0m\u001b[1;33m(\u001b[0m\u001b[1;34m\"format\"\u001b[0m\u001b[1;33m,\u001b[0m \u001b[0mformat\u001b[0m\u001b[1;33m)\u001b[0m\u001b[1;33m\u001b[0m\u001b[1;33m\u001b[0m\u001b[0m\n\u001b[0;32m   1610\u001b[0m         \u001b[0mpil_kwargs\u001b[0m\u001b[1;33m.\u001b[0m\u001b[0msetdefault\u001b[0m\u001b[1;33m(\u001b[0m\u001b[1;34m\"dpi\"\u001b[0m\u001b[1;33m,\u001b[0m \u001b[1;33m(\u001b[0m\u001b[0mdpi\u001b[0m\u001b[1;33m,\u001b[0m \u001b[0mdpi\u001b[0m\u001b[1;33m)\u001b[0m\u001b[1;33m)\u001b[0m\u001b[1;33m\u001b[0m\u001b[1;33m\u001b[0m\u001b[0m\n\u001b[1;32m-> 1611\u001b[1;33m         \u001b[0mimage\u001b[0m\u001b[1;33m.\u001b[0m\u001b[0msave\u001b[0m\u001b[1;33m(\u001b[0m\u001b[0mfname\u001b[0m\u001b[1;33m,\u001b[0m \u001b[1;33m**\u001b[0m\u001b[0mpil_kwargs\u001b[0m\u001b[1;33m)\u001b[0m\u001b[1;33m\u001b[0m\u001b[1;33m\u001b[0m\u001b[0m\n\u001b[0m\u001b[0;32m   1612\u001b[0m \u001b[1;33m\u001b[0m\u001b[0m\n\u001b[0;32m   1613\u001b[0m \u001b[1;33m\u001b[0m\u001b[0m\n",
      "\u001b[1;32m~\\anaconda3\\lib\\site-packages\\PIL\\Image.py\u001b[0m in \u001b[0;36msave\u001b[1;34m(self, fp, format, **params)\u001b[0m\n\u001b[0;32m   2170\u001b[0m \u001b[1;33m\u001b[0m\u001b[0m\n\u001b[0;32m   2171\u001b[0m         \u001b[1;32mtry\u001b[0m\u001b[1;33m:\u001b[0m\u001b[1;33m\u001b[0m\u001b[1;33m\u001b[0m\u001b[0m\n\u001b[1;32m-> 2172\u001b[1;33m             \u001b[0msave_handler\u001b[0m\u001b[1;33m(\u001b[0m\u001b[0mself\u001b[0m\u001b[1;33m,\u001b[0m \u001b[0mfp\u001b[0m\u001b[1;33m,\u001b[0m \u001b[0mfilename\u001b[0m\u001b[1;33m)\u001b[0m\u001b[1;33m\u001b[0m\u001b[1;33m\u001b[0m\u001b[0m\n\u001b[0m\u001b[0;32m   2173\u001b[0m         \u001b[1;32mfinally\u001b[0m\u001b[1;33m:\u001b[0m\u001b[1;33m\u001b[0m\u001b[1;33m\u001b[0m\u001b[0m\n\u001b[0;32m   2174\u001b[0m             \u001b[1;31m# do what we can to clean up\u001b[0m\u001b[1;33m\u001b[0m\u001b[1;33m\u001b[0m\u001b[1;33m\u001b[0m\u001b[0m\n",
      "\u001b[1;32m~\\anaconda3\\lib\\site-packages\\PIL\\PngImagePlugin.py\u001b[0m in \u001b[0;36m_save\u001b[1;34m(im, fp, filename, chunk, save_all)\u001b[0m\n\u001b[0;32m   1333\u001b[0m         \u001b[0m_write_multiple_frames\u001b[0m\u001b[1;33m(\u001b[0m\u001b[0mim\u001b[0m\u001b[1;33m,\u001b[0m \u001b[0mfp\u001b[0m\u001b[1;33m,\u001b[0m \u001b[0mchunk\u001b[0m\u001b[1;33m,\u001b[0m \u001b[0mrawmode\u001b[0m\u001b[1;33m)\u001b[0m\u001b[1;33m\u001b[0m\u001b[1;33m\u001b[0m\u001b[0m\n\u001b[0;32m   1334\u001b[0m     \u001b[1;32melse\u001b[0m\u001b[1;33m:\u001b[0m\u001b[1;33m\u001b[0m\u001b[1;33m\u001b[0m\u001b[0m\n\u001b[1;32m-> 1335\u001b[1;33m         \u001b[0mImageFile\u001b[0m\u001b[1;33m.\u001b[0m\u001b[0m_save\u001b[0m\u001b[1;33m(\u001b[0m\u001b[0mim\u001b[0m\u001b[1;33m,\u001b[0m \u001b[0m_idat\u001b[0m\u001b[1;33m(\u001b[0m\u001b[0mfp\u001b[0m\u001b[1;33m,\u001b[0m \u001b[0mchunk\u001b[0m\u001b[1;33m)\u001b[0m\u001b[1;33m,\u001b[0m \u001b[1;33m[\u001b[0m\u001b[1;33m(\u001b[0m\u001b[1;34m\"zip\"\u001b[0m\u001b[1;33m,\u001b[0m \u001b[1;33m(\u001b[0m\u001b[1;36m0\u001b[0m\u001b[1;33m,\u001b[0m \u001b[1;36m0\u001b[0m\u001b[1;33m)\u001b[0m \u001b[1;33m+\u001b[0m \u001b[0mim\u001b[0m\u001b[1;33m.\u001b[0m\u001b[0msize\u001b[0m\u001b[1;33m,\u001b[0m \u001b[1;36m0\u001b[0m\u001b[1;33m,\u001b[0m \u001b[0mrawmode\u001b[0m\u001b[1;33m)\u001b[0m\u001b[1;33m]\u001b[0m\u001b[1;33m)\u001b[0m\u001b[1;33m\u001b[0m\u001b[1;33m\u001b[0m\u001b[0m\n\u001b[0m\u001b[0;32m   1336\u001b[0m \u001b[1;33m\u001b[0m\u001b[0m\n\u001b[0;32m   1337\u001b[0m     \u001b[1;32mif\u001b[0m \u001b[0minfo\u001b[0m\u001b[1;33m:\u001b[0m\u001b[1;33m\u001b[0m\u001b[1;33m\u001b[0m\u001b[0m\n",
      "\u001b[1;32m~\\anaconda3\\lib\\site-packages\\PIL\\ImageFile.py\u001b[0m in \u001b[0;36m_save\u001b[1;34m(im, fp, tile, bufsize)\u001b[0m\n\u001b[0;32m    512\u001b[0m             \u001b[1;32melse\u001b[0m\u001b[1;33m:\u001b[0m\u001b[1;33m\u001b[0m\u001b[1;33m\u001b[0m\u001b[0m\n\u001b[0;32m    513\u001b[0m                 \u001b[1;32mwhile\u001b[0m \u001b[1;32mTrue\u001b[0m\u001b[1;33m:\u001b[0m\u001b[1;33m\u001b[0m\u001b[1;33m\u001b[0m\u001b[0m\n\u001b[1;32m--> 514\u001b[1;33m                     \u001b[0ml\u001b[0m\u001b[1;33m,\u001b[0m \u001b[0ms\u001b[0m\u001b[1;33m,\u001b[0m \u001b[0md\u001b[0m \u001b[1;33m=\u001b[0m \u001b[0me\u001b[0m\u001b[1;33m.\u001b[0m\u001b[0mencode\u001b[0m\u001b[1;33m(\u001b[0m\u001b[0mbufsize\u001b[0m\u001b[1;33m)\u001b[0m\u001b[1;33m\u001b[0m\u001b[1;33m\u001b[0m\u001b[0m\n\u001b[0m\u001b[0;32m    515\u001b[0m                     \u001b[0mfp\u001b[0m\u001b[1;33m.\u001b[0m\u001b[0mwrite\u001b[0m\u001b[1;33m(\u001b[0m\u001b[0md\u001b[0m\u001b[1;33m)\u001b[0m\u001b[1;33m\u001b[0m\u001b[1;33m\u001b[0m\u001b[0m\n\u001b[0;32m    516\u001b[0m                     \u001b[1;32mif\u001b[0m \u001b[0ms\u001b[0m\u001b[1;33m:\u001b[0m\u001b[1;33m\u001b[0m\u001b[1;33m\u001b[0m\u001b[0m\n",
      "\u001b[1;31mKeyboardInterrupt\u001b[0m: "
     ]
    },
    {
     "data": {
      "image/png": "[encoded data removed]",
      "text/plain": [
       "<Figure size 580x530 with 1 Axes>"
      ]
     },
     "metadata": {},
     "output_type": "display_data"
    }
   ],
   "source": [
    "analyze_report = sv.analyze(data)\n",
    "analyze_report.show_html('data.html',open_browser = False)\n"
   ]
  },
  {
   "cell_type": "code",
   "execution_count": null,
   "id": "6e9ac8ee",
   "metadata": {},
   "outputs": [],
   "source": [
    "import IPython\n",
    "IPython.display.HTML('data.html')"
   ]
  },
  {
   "cell_type": "code",
   "execution_count": 167,
   "id": "e22d23a9",
   "metadata": {},
   "outputs": [],
   "source": [
    "X = data[['times_of_day','day_of_week','is_emoticons','is_quote','is_urgency','is_weekend','click_rate','body_len','subject_len','mean_paragraph_len','no_of_CTA','category','product']]\n"
   ]
  },
  {
   "cell_type": "code",
   "execution_count": 168,
   "id": "f3175a03",
   "metadata": {},
   "outputs": [
    {
     "data": {
      "text/plain": [
       "<AxesSubplot:>"
      ]
     },
     "execution_count": 168,
     "metadata": {},
     "output_type": "execute_result"
    },
    {
     "data": {
      "image/png": "[encoded data removed]",
      "text/plain": [
       "<Figure size 1500x800 with 2 Axes>"
      ]
     },
     "metadata": {},
     "output_type": "display_data"
    }
   ],
   "source": [
    "ctr_mx = X.corr()\n",
    "plt.figure(figsize=(15,8))\n",
    "sns.set_context('paper')\n",
    "sns.heatmap(ctr_mx  , annot = True,cmap='Blues')"
   ]
  },
  {
   "cell_type": "code",
   "execution_count": 169,
   "id": "4be5e00b",
   "metadata": {},
   "outputs": [
    {
     "data": {
      "text/plain": [
       "<AxesSubplot:xlabel='day_of_week', ylabel='click_rate'>"
      ]
     },
     "execution_count": 169,
     "metadata": {},
     "output_type": "execute_result"
    },
    {
     "data": {
      "image/png": "[encoded data removed]",
      "text/plain": [
       "<Figure size 600x400 with 1 Axes>"
      ]
     },
     "metadata": {},
     "output_type": "display_data"
    }
   ],
   "source": [
    "sns.scatterplot(x='day_of_week', y='click_rate', data=data)"
   ]
  },
  {
   "cell_type": "code",
   "execution_count": 170,
   "id": "dd7abbf3",
   "metadata": {},
   "outputs": [],
   "source": [
    "import sklearn"
   ]
  },
  {
   "cell_type": "code",
   "execution_count": 171,
   "id": "0baf3fce",
   "metadata": {},
   "outputs": [],
   "source": [
    "from sklearn.preprocessing import LabelEncoder\n",
    "le = LabelEncoder()"
   ]
  },
  {
   "cell_type": "code",
   "execution_count": 172,
   "id": "7646256a",
   "metadata": {},
   "outputs": [
    {
     "name": "stderr",
     "output_type": "stream",
     "text": [
      "<ipython-input-172-0d5c6a22f3f1>:1: SettingWithCopyWarning: \n",
      "A value is trying to be set on a copy of a slice from a DataFrame.\n",
      "Try using .loc[row_indexer,col_indexer] = value instead\n",
      "\n",
      "See the caveats in the documentation: https://pandas.pydata.org/pandas-docs/stable/user_guide/indexing.html#returning-a-view-versus-a-copy\n",
      "  X['times_of_day']=le.fit_transform(X['times_of_day'])\n"
     ]
    }
   ],
   "source": [
    "X['times_of_day']=le.fit_transform(X['times_of_day'])"
   ]
  },
  {
   "cell_type": "code",
   "execution_count": 173,
   "id": "8be59327",
   "metadata": {},
   "outputs": [
    {
     "data": {
      "text/html": [
       "<div>\n",
       "<style scoped>\n",
       "    .dataframe tbody tr th:only-of-type {\n",
       "        vertical-align: middle;\n",
       "    }\n",
       "\n",
       "    .dataframe tbody tr th {\n",
       "        vertical-align: top;\n",
       "    }\n",
       "\n",
       "    .dataframe thead th {\n",
       "        text-align: right;\n",
       "    }\n",
       "</style>\n",
       "<table border=\"1\" class=\"dataframe\">\n",
       "  <thead>\n",
       "    <tr style=\"text-align: right;\">\n",
       "      <th></th>\n",
       "      <th>times_of_day</th>\n",
       "      <th>day_of_week</th>\n",
       "      <th>is_emoticons</th>\n",
       "      <th>is_quote</th>\n",
       "      <th>is_urgency</th>\n",
       "      <th>is_weekend</th>\n",
       "      <th>click_rate</th>\n",
       "      <th>body_len</th>\n",
       "      <th>subject_len</th>\n",
       "      <th>mean_paragraph_len</th>\n",
       "      <th>no_of_CTA</th>\n",
       "      <th>category</th>\n",
       "      <th>product</th>\n",
       "    </tr>\n",
       "  </thead>\n",
       "  <tbody>\n",
       "    <tr>\n",
       "      <th>0</th>\n",
       "      <td>2</td>\n",
       "      <td>5</td>\n",
       "      <td>0</td>\n",
       "      <td>0</td>\n",
       "      <td>0</td>\n",
       "      <td>1</td>\n",
       "      <td>0.103079</td>\n",
       "      <td>10439</td>\n",
       "      <td>76</td>\n",
       "      <td>39</td>\n",
       "      <td>3</td>\n",
       "      <td>6</td>\n",
       "      <td>26</td>\n",
       "    </tr>\n",
       "    <tr>\n",
       "      <th>1</th>\n",
       "      <td>1</td>\n",
       "      <td>5</td>\n",
       "      <td>0</td>\n",
       "      <td>0</td>\n",
       "      <td>0</td>\n",
       "      <td>1</td>\n",
       "      <td>0.700000</td>\n",
       "      <td>2570</td>\n",
       "      <td>54</td>\n",
       "      <td>256</td>\n",
       "      <td>0</td>\n",
       "      <td>2</td>\n",
       "      <td>11</td>\n",
       "    </tr>\n",
       "    <tr>\n",
       "      <th>2</th>\n",
       "      <td>2</td>\n",
       "      <td>5</td>\n",
       "      <td>0</td>\n",
       "      <td>1</td>\n",
       "      <td>0</td>\n",
       "      <td>1</td>\n",
       "      <td>0.002769</td>\n",
       "      <td>12801</td>\n",
       "      <td>59</td>\n",
       "      <td>16</td>\n",
       "      <td>3</td>\n",
       "      <td>2</td>\n",
       "      <td>11</td>\n",
       "    </tr>\n",
       "    <tr>\n",
       "      <th>3</th>\n",
       "      <td>0</td>\n",
       "      <td>4</td>\n",
       "      <td>0</td>\n",
       "      <td>0</td>\n",
       "      <td>0</td>\n",
       "      <td>0</td>\n",
       "      <td>0.010868</td>\n",
       "      <td>11037</td>\n",
       "      <td>74</td>\n",
       "      <td>30</td>\n",
       "      <td>4</td>\n",
       "      <td>15</td>\n",
       "      <td>9</td>\n",
       "    </tr>\n",
       "    <tr>\n",
       "      <th>4</th>\n",
       "      <td>2</td>\n",
       "      <td>5</td>\n",
       "      <td>0</td>\n",
       "      <td>1</td>\n",
       "      <td>0</td>\n",
       "      <td>1</td>\n",
       "      <td>0.142826</td>\n",
       "      <td>10011</td>\n",
       "      <td>80</td>\n",
       "      <td>27</td>\n",
       "      <td>3</td>\n",
       "      <td>6</td>\n",
       "      <td>26</td>\n",
       "    </tr>\n",
       "  </tbody>\n",
       "</table>\n",
       "</div>"
      ],
      "text/plain": [
       "   times_of_day  day_of_week  is_emoticons  is_quote  is_urgency  is_weekend  \\\n",
       "0             2            5             0         0           0           1   \n",
       "1             1            5             0         0           0           1   \n",
       "2             2            5             0         1           0           1   \n",
       "3             0            4             0         0           0           0   \n",
       "4             2            5             0         1           0           1   \n",
       "\n",
       "   click_rate  body_len  subject_len  mean_paragraph_len  no_of_CTA  category  \\\n",
       "0    0.103079     10439           76                  39          3         6   \n",
       "1    0.700000      2570           54                 256          0         2   \n",
       "2    0.002769     12801           59                  16          3         2   \n",
       "3    0.010868     11037           74                  30          4        15   \n",
       "4    0.142826     10011           80                  27          3         6   \n",
       "\n",
       "   product  \n",
       "0       26  \n",
       "1       11  \n",
       "2       11  \n",
       "3        9  \n",
       "4       26  "
      ]
     },
     "execution_count": 173,
     "metadata": {},
     "output_type": "execute_result"
    }
   ],
   "source": [
    "X.head()"
   ]
  },
  {
   "cell_type": "code",
   "execution_count": 174,
   "id": "6fa16882",
   "metadata": {},
   "outputs": [
    {
     "data": {
      "text/plain": [
       "(1888, 13)"
      ]
     },
     "execution_count": 174,
     "metadata": {},
     "output_type": "execute_result"
    }
   ],
   "source": [
    "X.shape"
   ]
  },
  {
   "cell_type": "code",
   "execution_count": 175,
   "id": "35e69710",
   "metadata": {},
   "outputs": [
    {
     "name": "stderr",
     "output_type": "stream",
     "text": [
      "C:\\Users\\lenovo\\anaconda3\\lib\\site-packages\\seaborn\\distributions.py:2557: FutureWarning: `distplot` is a deprecated function and will be removed in a future version. Please adapt your code to use either `displot` (a figure-level function with similar flexibility) or `histplot` (an axes-level function for histograms).\n",
      "  warnings.warn(msg, FutureWarning)\n",
      "C:\\Users\\lenovo\\anaconda3\\lib\\site-packages\\seaborn\\distributions.py:2557: FutureWarning: `distplot` is a deprecated function and will be removed in a future version. Please adapt your code to use either `displot` (a figure-level function with similar flexibility) or `histplot` (an axes-level function for histograms).\n",
      "  warnings.warn(msg, FutureWarning)\n",
      "C:\\Users\\lenovo\\anaconda3\\lib\\site-packages\\seaborn\\distributions.py:2557: FutureWarning: `distplot` is a deprecated function and will be removed in a future version. Please adapt your code to use either `displot` (a figure-level function with similar flexibility) or `histplot` (an axes-level function for histograms).\n",
      "  warnings.warn(msg, FutureWarning)\n"
     ]
    },
    {
     "data": {
      "text/plain": [
       "<AxesSubplot:xlabel='mean_paragraph_len', ylabel='Density'>"
      ]
     },
     "execution_count": 175,
     "metadata": {},
     "output_type": "execute_result"
    },
    {
     "data": {
      "image/png": "[encoded data removed]",
      "text/plain": [
       "<Figure size 1600x500 with 3 Axes>"
      ]
     },
     "metadata": {},
     "output_type": "display_data"
    }
   ],
   "source": [
    "plt.figure(figsize = (16,5))\n",
    "plt.subplot(1,3,1)\n",
    "sns.distplot(data['body_len'])\n",
    "plt.subplot(1,3,2)\n",
    "sns.distplot(data['subject_len'])\n",
    "plt.subplot(1,3,3)\n",
    "sns.distplot(data['mean_paragraph_len'])\n",
    "\n"
   ]
  },
  {
   "cell_type": "code",
   "execution_count": 176,
   "id": "36f33d0f",
   "metadata": {},
   "outputs": [],
   "source": [
    "def remove_outliers(column):\n",
    "    sns.set_theme(style=\"whitegrid\")\n",
    "    ax= sns.boxplot(x = X[column])"
   ]
  },
  {
   "cell_type": "code",
   "execution_count": 177,
   "id": "273140c0",
   "metadata": {},
   "outputs": [
    {
     "data": {
      "image/png": "[encoded data removed]",
      "text/plain": [
       "<Figure size 600x400 with 1 Axes>"
      ]
     },
     "metadata": {},
     "output_type": "display_data"
    }
   ],
   "source": [
    "#remove_outliers('body_len')\n",
    "remove_outliers('subject_len')\n"
   ]
  },
  {
   "cell_type": "code",
   "execution_count": 180,
   "id": "59a26c23",
   "metadata": {},
   "outputs": [],
   "source": [
    "def iqr_capping(df, cols): \n",
    "     \n",
    "    for col in cols: \n",
    "         \n",
    "        q1 = df[col].quantile(0.25) \n",
    "        q3 = df[col].quantile(0.75) \n",
    "         \n",
    "        iqr = q3 - q1 \n",
    "         \n",
    "        upper_whisker = q3 + (1.5*iqr) \n",
    "        lower_whisker = q1 - (1.5*iqr) \n",
    "         \n",
    "        df[col] = np.where(df[col]>upper_whisker, upper_whisker, \n",
    "                 np.where(df[col]<lower_whisker, lower_whisker, df[col]))\n",
    "        \n",
    "    "
   ]
  },
  {
   "cell_type": "code",
   "execution_count": 182,
   "id": "aa1094d0",
   "metadata": {},
   "outputs": [],
   "source": [
    "cols = ['subject_len','body_len','mean_paragraph_len']\n"
   ]
  },
  {
   "cell_type": "code",
   "execution_count": 183,
   "id": "bc9403f7",
   "metadata": {},
   "outputs": [
    {
     "name": "stderr",
     "output_type": "stream",
     "text": [
      "<ipython-input-180-53e6902131c5>:13: SettingWithCopyWarning: \n",
      "A value is trying to be set on a copy of a slice from a DataFrame.\n",
      "Try using .loc[row_indexer,col_indexer] = value instead\n",
      "\n",
      "See the caveats in the documentation: https://pandas.pydata.org/pandas-docs/stable/user_guide/indexing.html#returning-a-view-versus-a-copy\n",
      "  df[col] = np.where(df[col]>upper_whisker, upper_whisker,\n",
      "<ipython-input-180-53e6902131c5>:13: SettingWithCopyWarning: \n",
      "A value is trying to be set on a copy of a slice from a DataFrame.\n",
      "Try using .loc[row_indexer,col_indexer] = value instead\n",
      "\n",
      "See the caveats in the documentation: https://pandas.pydata.org/pandas-docs/stable/user_guide/indexing.html#returning-a-view-versus-a-copy\n",
      "  df[col] = np.where(df[col]>upper_whisker, upper_whisker,\n",
      "<ipython-input-180-53e6902131c5>:13: SettingWithCopyWarning: \n",
      "A value is trying to be set on a copy of a slice from a DataFrame.\n",
      "Try using .loc[row_indexer,col_indexer] = value instead\n",
      "\n",
      "See the caveats in the documentation: https://pandas.pydata.org/pandas-docs/stable/user_guide/indexing.html#returning-a-view-versus-a-copy\n",
      "  df[col] = np.where(df[col]>upper_whisker, upper_whisker,\n"
     ]
    }
   ],
   "source": [
    "iqr_capping(X,cols)"
   ]
  },
  {
   "cell_type": "code",
   "execution_count": 184,
   "id": "1a62c33e",
   "metadata": {},
   "outputs": [
    {
     "data": {
      "text/html": [
       "<div>\n",
       "<style scoped>\n",
       "    .dataframe tbody tr th:only-of-type {\n",
       "        vertical-align: middle;\n",
       "    }\n",
       "\n",
       "    .dataframe tbody tr th {\n",
       "        vertical-align: top;\n",
       "    }\n",
       "\n",
       "    .dataframe thead th {\n",
       "        text-align: right;\n",
       "    }\n",
       "</style>\n",
       "<table border=\"1\" class=\"dataframe\">\n",
       "  <thead>\n",
       "    <tr style=\"text-align: right;\">\n",
       "      <th></th>\n",
       "      <th>times_of_day</th>\n",
       "      <th>day_of_week</th>\n",
       "      <th>is_emoticons</th>\n",
       "      <th>is_quote</th>\n",
       "      <th>is_urgency</th>\n",
       "      <th>is_weekend</th>\n",
       "      <th>click_rate</th>\n",
       "      <th>body_len</th>\n",
       "      <th>subject_len</th>\n",
       "      <th>mean_paragraph_len</th>\n",
       "      <th>no_of_CTA</th>\n",
       "      <th>category</th>\n",
       "      <th>product</th>\n",
       "    </tr>\n",
       "  </thead>\n",
       "  <tbody>\n",
       "    <tr>\n",
       "      <th>0</th>\n",
       "      <td>2</td>\n",
       "      <td>5</td>\n",
       "      <td>0</td>\n",
       "      <td>0</td>\n",
       "      <td>0</td>\n",
       "      <td>1</td>\n",
       "      <td>0.103079</td>\n",
       "      <td>10439.0</td>\n",
       "      <td>76.0</td>\n",
       "      <td>39.0</td>\n",
       "      <td>3</td>\n",
       "      <td>6</td>\n",
       "      <td>26</td>\n",
       "    </tr>\n",
       "    <tr>\n",
       "      <th>1</th>\n",
       "      <td>1</td>\n",
       "      <td>5</td>\n",
       "      <td>0</td>\n",
       "      <td>0</td>\n",
       "      <td>0</td>\n",
       "      <td>1</td>\n",
       "      <td>0.700000</td>\n",
       "      <td>2570.0</td>\n",
       "      <td>54.0</td>\n",
       "      <td>68.5</td>\n",
       "      <td>0</td>\n",
       "      <td>2</td>\n",
       "      <td>11</td>\n",
       "    </tr>\n",
       "    <tr>\n",
       "      <th>2</th>\n",
       "      <td>2</td>\n",
       "      <td>5</td>\n",
       "      <td>0</td>\n",
       "      <td>1</td>\n",
       "      <td>0</td>\n",
       "      <td>1</td>\n",
       "      <td>0.002769</td>\n",
       "      <td>12801.0</td>\n",
       "      <td>59.0</td>\n",
       "      <td>16.0</td>\n",
       "      <td>3</td>\n",
       "      <td>2</td>\n",
       "      <td>11</td>\n",
       "    </tr>\n",
       "    <tr>\n",
       "      <th>3</th>\n",
       "      <td>0</td>\n",
       "      <td>4</td>\n",
       "      <td>0</td>\n",
       "      <td>0</td>\n",
       "      <td>0</td>\n",
       "      <td>0</td>\n",
       "      <td>0.010868</td>\n",
       "      <td>11037.0</td>\n",
       "      <td>74.0</td>\n",
       "      <td>30.0</td>\n",
       "      <td>4</td>\n",
       "      <td>15</td>\n",
       "      <td>9</td>\n",
       "    </tr>\n",
       "    <tr>\n",
       "      <th>4</th>\n",
       "      <td>2</td>\n",
       "      <td>5</td>\n",
       "      <td>0</td>\n",
       "      <td>1</td>\n",
       "      <td>0</td>\n",
       "      <td>1</td>\n",
       "      <td>0.142826</td>\n",
       "      <td>10011.0</td>\n",
       "      <td>80.0</td>\n",
       "      <td>27.0</td>\n",
       "      <td>3</td>\n",
       "      <td>6</td>\n",
       "      <td>26</td>\n",
       "    </tr>\n",
       "  </tbody>\n",
       "</table>\n",
       "</div>"
      ],
      "text/plain": [
       "   times_of_day  day_of_week  is_emoticons  is_quote  is_urgency  is_weekend  \\\n",
       "0             2            5             0         0           0           1   \n",
       "1             1            5             0         0           0           1   \n",
       "2             2            5             0         1           0           1   \n",
       "3             0            4             0         0           0           0   \n",
       "4             2            5             0         1           0           1   \n",
       "\n",
       "   click_rate  body_len  subject_len  mean_paragraph_len  no_of_CTA  category  \\\n",
       "0    0.103079   10439.0         76.0                39.0          3         6   \n",
       "1    0.700000    2570.0         54.0                68.5          0         2   \n",
       "2    0.002769   12801.0         59.0                16.0          3         2   \n",
       "3    0.010868   11037.0         74.0                30.0          4        15   \n",
       "4    0.142826   10011.0         80.0                27.0          3         6   \n",
       "\n",
       "   product  \n",
       "0       26  \n",
       "1       11  \n",
       "2       11  \n",
       "3        9  \n",
       "4       26  "
      ]
     },
     "execution_count": 184,
     "metadata": {},
     "output_type": "execute_result"
    }
   ],
   "source": [
    "X.head()"
   ]
  },
  {
   "cell_type": "code",
   "execution_count": 251,
   "id": "298a9ec0",
   "metadata": {},
   "outputs": [
    {
     "data": {
      "text/plain": [
       "array([0.10307898, 0.7       , 0.00276891, ..., 0.00828938, 0.01201361,\n",
       "       0.00364388])"
      ]
     },
     "execution_count": 251,
     "metadata": {},
     "output_type": "execute_result"
    }
   ],
   "source": [
    "y = X.click_rate\n",
    "y.unique()"
   ]
  },
  {
   "cell_type": "code",
   "execution_count": 252,
   "id": "6156a3c2",
   "metadata": {},
   "outputs": [],
   "source": [
    "X = X.drop(columns='click_rate',axis=1)"
   ]
  },
  {
   "cell_type": "code",
   "execution_count": 268,
   "id": "6d7e3f5e",
   "metadata": {},
   "outputs": [],
   "source": [
    "from sklearn.model_selection import train_test_split\n",
    "x_train,x_test,y_train,y_test = train_test_split(X,y,test_size=0.15)"
   ]
  },
  {
   "cell_type": "code",
   "execution_count": 269,
   "id": "0bd06241",
   "metadata": {},
   "outputs": [],
   "source": [
    "from sklearn.ensemble import RandomForestRegressor\n",
    "model = RandomForestRegressor(n_estimators=20)\n",
    "model.fit(x_train, y_train)\n",
    "y_pred = model.predict(x_test)"
   ]
  },
  {
   "cell_type": "code",
   "execution_count": 270,
   "id": "7593a095",
   "metadata": {},
   "outputs": [],
   "source": [
    "from sklearn import metrics"
   ]
  },
  {
   "cell_type": "code",
   "execution_count": 271,
   "id": "e598a40d",
   "metadata": {},
   "outputs": [
    {
     "name": "stdout",
     "output_type": "stream",
     "text": [
      "Mean Absolute Error: 0.028353815138864456\n",
      "Mean Squared Error: 0.002687357284364363\n",
      "Root Mean Squared Error: 0.051839726893227\n"
     ]
    }
   ],
   "source": [
    "print('Mean Absolute Error:', metrics.mean_absolute_error(y_test, y_pred))\n",
    "print('Mean Squared Error:', metrics.mean_squared_error(y_test, y_pred))\n",
    "print('Root Mean Squared Error:', np.sqrt(metrics.mean_squared_error(y_test, y_pred)))"
   ]
  },
  {
   "cell_type": "code",
   "execution_count": 272,
   "id": "02b302a9",
   "metadata": {},
   "outputs": [
    {
     "data": {
      "text/plain": [
       "0.5866402699315394"
      ]
     },
     "execution_count": 272,
     "metadata": {},
     "output_type": "execute_result"
    }
   ],
   "source": [
    "from sklearn.metrics import r2_score\n",
    "r2_score(y_test, y_pred)"
   ]
  },
  {
   "cell_type": "code",
   "execution_count": 273,
   "id": "33f77425",
   "metadata": {},
   "outputs": [
    {
     "data": {
      "text/plain": [
       "(762, 21)"
      ]
     },
     "execution_count": 273,
     "metadata": {},
     "output_type": "execute_result"
    }
   ],
   "source": [
    "test_data = pd.read_csv('test_Bk2wfZ3.csv')\n",
    "test_data.shape"
   ]
  },
  {
   "cell_type": "code",
   "execution_count": 284,
   "id": "0398af58",
   "metadata": {},
   "outputs": [
    {
     "data": {
      "text/plain": [
       "0      1889\n",
       "1      1890\n",
       "2      1891\n",
       "3      1892\n",
       "4      1893\n",
       "       ... \n",
       "757    2646\n",
       "758    2647\n",
       "759    2648\n",
       "760    2649\n",
       "761    2650\n",
       "Name: campaign_id, Length: 762, dtype: int64"
      ]
     },
     "execution_count": 284,
     "metadata": {},
     "output_type": "execute_result"
    }
   ],
   "source": [
    "cd = test_data[\"campaign_id\"]\n",
    "cd"
   ]
  },
  {
   "cell_type": "code",
   "execution_count": 274,
   "id": "b58500ea",
   "metadata": {},
   "outputs": [
    {
     "name": "stderr",
     "output_type": "stream",
     "text": [
      "<ipython-input-274-0ee5830c8b1d>:2: SettingWithCopyWarning: \n",
      "A value is trying to be set on a copy of a slice from a DataFrame.\n",
      "Try using .loc[row_indexer,col_indexer] = value instead\n",
      "\n",
      "See the caveats in the documentation: https://pandas.pydata.org/pandas-docs/stable/user_guide/indexing.html#returning-a-view-versus-a-copy\n",
      "  P['times_of_day']=le.fit_transform(P['times_of_day'])\n",
      "<ipython-input-180-53e6902131c5>:13: SettingWithCopyWarning: \n",
      "A value is trying to be set on a copy of a slice from a DataFrame.\n",
      "Try using .loc[row_indexer,col_indexer] = value instead\n",
      "\n",
      "See the caveats in the documentation: https://pandas.pydata.org/pandas-docs/stable/user_guide/indexing.html#returning-a-view-versus-a-copy\n",
      "  df[col] = np.where(df[col]>upper_whisker, upper_whisker,\n",
      "<ipython-input-180-53e6902131c5>:13: SettingWithCopyWarning: \n",
      "A value is trying to be set on a copy of a slice from a DataFrame.\n",
      "Try using .loc[row_indexer,col_indexer] = value instead\n",
      "\n",
      "See the caveats in the documentation: https://pandas.pydata.org/pandas-docs/stable/user_guide/indexing.html#returning-a-view-versus-a-copy\n",
      "  df[col] = np.where(df[col]>upper_whisker, upper_whisker,\n",
      "<ipython-input-180-53e6902131c5>:13: SettingWithCopyWarning: \n",
      "A value is trying to be set on a copy of a slice from a DataFrame.\n",
      "Try using .loc[row_indexer,col_indexer] = value instead\n",
      "\n",
      "See the caveats in the documentation: https://pandas.pydata.org/pandas-docs/stable/user_guide/indexing.html#returning-a-view-versus-a-copy\n",
      "  df[col] = np.where(df[col]>upper_whisker, upper_whisker,\n"
     ]
    },
    {
     "data": {
      "image/png": "[encoded data removed]",
      "text/plain": [
       "<Figure size 600x400 with 1 Axes>"
      ]
     },
     "metadata": {},
     "output_type": "display_data"
    }
   ],
   "source": [
    "P = test_data[['times_of_day','day_of_week','is_emoticons','is_quote','is_urgency','is_weekend','body_len','subject_len','mean_paragraph_len','no_of_CTA','category','product']]\n",
    "P['times_of_day']=le.fit_transform(P['times_of_day'])\n",
    "remove_outliers('subject_len')\n",
    "iqr_capping(P,cols)\n",
    "y_pred_test = model.predict(P)\n",
    "\n",
    "# print('Mean Absolute Error:', metrics.mean_absolute_error(y_, y_pred_test))\n",
    "# print('Mean Squared Error:', metrics.mean_squared_error(y_t, y_pred_test))\n",
    "# print('Root Mean Squared Error:', np.sqrt(metrics.mean_squared_error(y_test, y_pred_test)))\n",
    "\n",
    "\n"
   ]
  },
  {
   "cell_type": "code",
   "execution_count": 275,
   "id": "5c17f034",
   "metadata": {},
   "outputs": [
    {
     "data": {
      "text/plain": [
       "array([0.02997009, 0.58520563, 0.14689712, 0.14391195, 0.1467259 ,\n",
       "       0.03618953, 0.00688413, 0.00684569, 0.0306347 , 0.03388875,\n",
       "       0.02937612, 0.05480976, 0.00920369, 0.07864928, 0.01626059,\n",
       "       0.01126754, 0.01126754, 0.0062178 , 0.0532709 , 0.06004603,\n",
       "       0.03639565, 0.02080696, 0.0070531 , 0.00654797, 0.01909155,\n",
       "       0.019934  , 0.05238826, 0.00991819, 0.10574759, 0.00772072,\n",
       "       0.00719062, 0.03604933, 0.0093357 , 0.16215699, 0.03036096,\n",
       "       0.06243017, 0.01855103, 0.00728997, 0.00600948, 0.02911657,\n",
       "       0.01134544, 0.0222558 , 0.00718444, 0.03828082, 0.07006513,\n",
       "       0.00682674, 0.04488838, 0.02011577, 0.01661756, 0.00876774,\n",
       "       0.02169869, 0.01649707, 0.00936283, 0.00822923, 0.01264915,\n",
       "       0.01282696, 0.00629085, 0.00653256, 0.00663407, 0.0055704 ,\n",
       "       0.10427925, 0.00535656, 0.00871028, 0.00694878, 0.00599049,\n",
       "       0.02439642, 0.00768752, 0.07378826, 0.02325967, 0.06802877,\n",
       "       0.01004342, 0.14861027, 0.01820019, 0.01495788, 0.08352672,\n",
       "       0.07719641, 0.0128446 , 0.06323041, 0.01239658, 0.06662231,\n",
       "       0.01751151, 0.01311198, 0.06260294, 0.00817826, 0.01582466,\n",
       "       0.18900252, 0.00800017, 0.00687771, 0.06613906, 0.01104776,\n",
       "       0.01515726, 0.0094621 , 0.09916242, 0.01516478, 0.01142063,\n",
       "       0.01723148, 0.03277515, 0.01388949, 0.00836285, 0.00454079,\n",
       "       0.06305887, 0.06305887, 0.06305887, 0.00804788, 0.01257836,\n",
       "       0.00733944, 0.01318355, 0.01810577, 0.00555712, 0.07745719,\n",
       "       0.09587086, 0.00574126, 0.12764301, 0.03264614, 0.01120757,\n",
       "       0.00865129, 0.16331506, 0.15741283, 0.03171058, 0.03087613,\n",
       "       0.01269616, 0.01355025, 0.07956929, 0.00717058, 0.02169776,\n",
       "       0.02975592, 0.02585008, 0.01205432, 0.00584885, 0.02589156,\n",
       "       0.02074067, 0.0132921 , 0.00445891, 0.01083409, 0.03721571,\n",
       "       0.04385806, 0.00551238, 0.00710247, 0.00665698, 0.01169273,\n",
       "       0.00572071, 0.07636868, 0.0375355 , 0.03152379, 0.14937883,\n",
       "       0.00609336, 0.01299527, 0.05375562, 0.03485082, 0.00501496,\n",
       "       0.05317969, 0.11762193, 0.08740208, 0.01183739, 0.00674137,\n",
       "       0.01199427, 0.0656502 , 0.02381292, 0.00698689, 0.00736506,\n",
       "       0.01013355, 0.23055122, 0.00718344, 0.01770378, 0.0069602 ,\n",
       "       0.00796107, 0.00610533, 0.10971739, 0.00838411, 0.0118707 ,\n",
       "       0.08942099, 0.00672013, 0.11124699, 0.13751421, 0.00879868,\n",
       "       0.00868788, 0.01269075, 0.01823016, 0.1139451 , 0.00732472,\n",
       "       0.01391447, 0.07980624, 0.0264405 , 0.00779855, 0.01765913,\n",
       "       0.00391185, 0.00737478, 0.12596457, 0.1580697 , 0.13051912,\n",
       "       0.0504396 , 0.07419517, 0.01432766, 0.12596457, 0.02809563,\n",
       "       0.10468511, 0.02376622, 0.01292888, 0.0339729 , 0.0161692 ,\n",
       "       0.02796847, 0.00770561, 0.00827401, 0.02634009, 0.08393699,\n",
       "       0.03172391, 0.03665363, 0.03665363, 0.04424465, 0.00728746,\n",
       "       0.08258003, 0.01066828, 0.01427696, 0.06566057, 0.01112715,\n",
       "       0.05835693, 0.1305198 , 0.02816652, 0.0153047 , 0.02028563,\n",
       "       0.074283  , 0.32996052, 0.04016869, 0.07355642, 0.01199134,\n",
       "       0.00378824, 0.02431089, 0.01021721, 0.00835767, 0.01507474,\n",
       "       0.00576232, 0.00596024, 0.00393704, 0.01037805, 0.00818464,\n",
       "       0.02040062, 0.00964307, 0.01212803, 0.01113865, 0.00715609,\n",
       "       0.01052732, 0.02859569, 0.01255392, 0.00902113, 0.03225631,\n",
       "       0.01082009, 0.00932663, 0.01208851, 0.00895728, 0.00575714,\n",
       "       0.01105439, 0.01680068, 0.03097931, 0.09581892, 0.01049214,\n",
       "       0.00766738, 0.00745991, 0.0103698 , 0.00849168, 0.00799726,\n",
       "       0.0058484 , 0.02113672, 0.07243978, 0.00866911, 0.01060763,\n",
       "       0.01209234, 0.03362983, 0.00385868, 0.00429284, 0.00812174,\n",
       "       0.00463263, 0.02628723, 0.01735811, 0.30680703, 0.01596165,\n",
       "       0.00721751, 0.05724465, 0.04167835, 0.01775716, 0.02603636,\n",
       "       0.02000161, 0.01713412, 0.01492479, 0.0911329 , 0.00585988,\n",
       "       0.02211416, 0.00811554, 0.03140413, 0.02140603, 0.00572793,\n",
       "       0.05565446, 0.10202607, 0.01270238, 0.01167089, 0.18629836,\n",
       "       0.13881518, 0.00758265, 0.03205189, 0.02294697, 0.06825547,\n",
       "       0.01472491, 0.1280218 , 0.06866243, 0.02415309, 0.02471889,\n",
       "       0.01484728, 0.01325805, 0.06052092, 0.1361712 , 0.01210541,\n",
       "       0.00569107, 0.02910491, 0.00726509, 0.091373  , 0.00540746,\n",
       "       0.03350152, 0.16897874, 0.24668904, 0.01083398, 0.00640315,\n",
       "       0.00585788, 0.04732915, 0.09446198, 0.00596179, 0.01212082,\n",
       "       0.01033921, 0.00773018, 0.00789576, 0.14004636, 0.00566944,\n",
       "       0.10852387, 0.00789458, 0.00733916, 0.01339331, 0.0146061 ,\n",
       "       0.01279044, 0.00719313, 0.08969235, 0.05569012, 0.01124457,\n",
       "       0.01450145, 0.00609915, 0.27194958, 0.07478054, 0.30640547,\n",
       "       0.01629023, 0.08341669, 0.0077933 , 0.01102744, 0.00703787,\n",
       "       0.30752442, 0.00504409, 0.01039454, 0.01102841, 0.00997649,\n",
       "       0.00637503, 0.06355239, 0.00659233, 0.00765766, 0.00538265,\n",
       "       0.00689134, 0.00538265, 0.00399866, 0.00246712, 0.0026252 ,\n",
       "       0.00430363, 0.00430363, 0.02081581, 0.00782356, 0.02011943,\n",
       "       0.01889759, 0.01139868, 0.01369531, 0.01373539, 0.01099121,\n",
       "       0.01136558, 0.01002057, 0.01881844, 0.01719145, 0.02589613,\n",
       "       0.00454276, 0.00596926, 0.00972935, 0.06155856, 0.06030269,\n",
       "       0.01341147, 0.0067274 , 0.06430991, 0.16875019, 0.00771071,\n",
       "       0.00910936, 0.0314527 , 0.01008682, 0.01260835, 0.03559309,\n",
       "       0.15192025, 0.01366561, 0.01159684, 0.02402629, 0.01496238,\n",
       "       0.06774902, 0.01198772, 0.06429521, 0.0144148 , 0.00915745,\n",
       "       0.0304223 , 0.02018075, 0.01087492, 0.00694382, 0.01042578,\n",
       "       0.01137841, 0.0157972 , 0.03031692, 0.01269126, 0.00975945,\n",
       "       0.02581598, 0.00861227, 0.00954018, 0.08469061, 0.05039202,\n",
       "       0.01108851, 0.00916691, 0.01239067, 0.09335719, 0.01147274,\n",
       "       0.01300296, 0.00844475, 0.01096787, 0.05592229, 0.08019286,\n",
       "       0.02300538, 0.13128639, 0.01913095, 0.01692625, 0.01693974,\n",
       "       0.04175572, 0.01917373, 0.01281829, 0.02013819, 0.07646149,\n",
       "       0.0124366 , 0.01558797, 0.02351636, 0.09474297, 0.01385381,\n",
       "       0.01310521, 0.05644406, 0.01267995, 0.03374855, 0.01288594,\n",
       "       0.01188198, 0.04745486, 0.01636432, 0.01280094, 0.02217802,\n",
       "       0.01615962, 0.00911309, 0.39657619, 0.01590916, 0.01117503,\n",
       "       0.05301936, 0.01677628, 0.01278665, 0.07033056, 0.48983259,\n",
       "       0.01007706, 0.02001307, 0.00523158, 0.03526042, 0.05823991,\n",
       "       0.01101406, 0.01354743, 0.06220808, 0.02295537, 0.01430441,\n",
       "       0.01581316, 0.01609915, 0.01830393, 0.04935076, 0.01363596,\n",
       "       0.24106096, 0.02590533, 0.04561751, 0.03171207, 0.01320607,\n",
       "       0.03157757, 0.01021299, 0.02016693, 0.01485125, 0.01792723,\n",
       "       0.01760926, 0.01917611, 0.12258682, 0.06047456, 0.02115112,\n",
       "       0.03488847, 0.01194243, 0.03626767, 0.01294144, 0.06387492,\n",
       "       0.18426855, 0.06399889, 0.04492109, 0.00965144, 0.0199686 ,\n",
       "       0.0199686 , 0.00977018, 0.01487671, 0.18460157, 0.35895445,\n",
       "       0.08163347, 0.01938853, 0.01598388, 0.03466299, 0.04522222,\n",
       "       0.06957478, 0.07896773, 0.02122333, 0.0562627 , 0.03518675,\n",
       "       0.03876067, 0.0199327 , 0.3177303 , 0.11374124, 0.08007874,\n",
       "       0.28026836, 0.02251672, 0.02644437, 0.01840833, 0.1290661 ,\n",
       "       0.06574799, 0.04890356, 0.09065487, 0.32615044, 0.06334703,\n",
       "       0.0179338 , 0.01739912, 0.03496246, 0.01263053, 0.01439356,\n",
       "       0.05083987, 0.02949253, 0.03362048, 0.02797879, 0.03487603,\n",
       "       0.29992603, 0.01995863, 0.13426981, 0.05881953, 0.24934762,\n",
       "       0.04810186, 0.06798581, 0.02827278, 0.0406833 , 0.07114139,\n",
       "       0.0802554 , 0.02133324, 0.13191937, 0.01117838, 0.02528454,\n",
       "       0.07026353, 0.01988938, 0.05639728, 0.00754466, 0.02735909,\n",
       "       0.03684214, 0.01283021, 0.07192246, 0.01204158, 0.03181057,\n",
       "       0.01170625, 0.05349209, 0.01107523, 0.0965394 , 0.10222115,\n",
       "       0.010217  , 0.02940422, 0.00825945, 0.01299583, 0.01416806,\n",
       "       0.07437492, 0.01872106, 0.22419675, 0.01201908, 0.02889167,\n",
       "       0.01338996, 0.01675032, 0.00788249, 0.01666409, 0.00570623,\n",
       "       0.02767578, 0.03582012, 0.09441912, 0.0283669 , 0.0250782 ,\n",
       "       0.01876741, 0.00519764, 0.14449627, 0.03181057, 0.0700331 ,\n",
       "       0.05459275, 0.03932799, 0.03564032, 0.06349226, 0.0568881 ,\n",
       "       0.0173212 , 0.00535404, 0.00535404, 0.09159206, 0.11196074,\n",
       "       0.02708138, 0.08368948, 0.08418709, 0.02454544, 0.17047488,\n",
       "       0.05193671, 0.03261211, 0.01448313, 0.01779491, 0.0128562 ,\n",
       "       0.03124998, 0.07586128, 0.10726853, 0.05342534, 0.03354565,\n",
       "       0.05470656, 0.02155345, 0.03818943, 0.0882352 , 0.05065292,\n",
       "       0.26549206, 0.24705205, 0.03603085, 0.01319144, 0.15637412,\n",
       "       0.01319421, 0.09124658, 0.06559863, 0.01508898, 0.0511145 ,\n",
       "       0.17150529, 0.03476658, 0.05303583, 0.02982252, 0.03180797,\n",
       "       0.01807587, 0.03033405, 0.0230765 , 0.04209142, 0.03510451,\n",
       "       0.05572674, 0.00878145, 0.02108183, 0.00842345, 0.00947261,\n",
       "       0.03024354, 0.01627244, 0.02937186, 0.09557046, 0.07438921,\n",
       "       0.09043714, 0.01518329, 0.0652876 , 0.02443817, 0.05910877,\n",
       "       0.0172842 , 0.03347914, 0.06010342, 0.09530213, 0.03804244,\n",
       "       0.0307348 , 0.05094755, 0.02384269, 0.01872698, 0.02277569,\n",
       "       0.02264676, 0.03916925, 0.01482117, 0.04953772, 0.04953772,\n",
       "       0.10852312, 0.01634226, 0.02425737, 0.00897654, 0.02383795,\n",
       "       0.03040404, 0.02351167, 0.07190584, 0.01280964, 0.04739987,\n",
       "       0.0449906 , 0.02204648, 0.02107221, 0.09845678, 0.1234949 ,\n",
       "       0.01249143, 0.00779466, 0.01374536, 0.01128275, 0.02119293,\n",
       "       0.02349049, 0.02295957, 0.01737924, 0.08536833, 0.1186818 ,\n",
       "       0.14585865, 0.02791941, 0.14572622, 0.01752866, 0.04450367,\n",
       "       0.03694749, 0.02784435, 0.07376305, 0.02859587, 0.02627151,\n",
       "       0.02281685, 0.03525656, 0.09954187, 0.03963331, 0.05580285,\n",
       "       0.18779779, 0.15006158, 0.03310293, 0.1052613 , 0.04072072,\n",
       "       0.10954584, 0.10240053, 0.0296807 , 0.05565544, 0.09129594,\n",
       "       0.16108795, 0.09723119, 0.0610942 , 0.03918732, 0.01083524,\n",
       "       0.01510889, 0.01523988, 0.01229827, 0.02867248, 0.04115554,\n",
       "       0.01253641, 0.00579626, 0.01950212, 0.01597668, 0.01884179,\n",
       "       0.03056548, 0.01796466, 0.11875026, 0.03483767, 0.07609485,\n",
       "       0.08612649, 0.03018276, 0.39663634, 0.00422574, 0.18328985,\n",
       "       0.01935579, 0.13381302, 0.00883815, 0.03919165, 0.03531158,\n",
       "       0.28889862, 0.01095822])"
      ]
     },
     "execution_count": 275,
     "metadata": {},
     "output_type": "execute_result"
    }
   ],
   "source": [
    "y_pred_test"
   ]
  },
  {
   "cell_type": "code",
   "execution_count": 276,
   "id": "6c703802",
   "metadata": {},
   "outputs": [],
   "source": [
    "from sklearn.model_selection import StratifiedKFold"
   ]
  },
  {
   "cell_type": "code",
   "execution_count": 279,
   "id": "21434189",
   "metadata": {},
   "outputs": [],
   "source": [
    "skf = StratifiedKFold(n_splits=12)"
   ]
  },
  {
   "cell_type": "code",
   "execution_count": 302,
   "id": "358920a5",
   "metadata": {},
   "outputs": [],
   "source": [
    "res1= pd.DataFrame(cd)\n",
    "res2= pd.DataFrame(y_pred_test)"
   ]
  },
  {
   "cell_type": "code",
   "execution_count": 306,
   "id": "c336dd01",
   "metadata": {},
   "outputs": [
    {
     "data": {
      "text/html": [
       "<div>\n",
       "<style scoped>\n",
       "    .dataframe tbody tr th:only-of-type {\n",
       "        vertical-align: middle;\n",
       "    }\n",
       "\n",
       "    .dataframe tbody tr th {\n",
       "        vertical-align: top;\n",
       "    }\n",
       "\n",
       "    .dataframe thead th {\n",
       "        text-align: right;\n",
       "    }\n",
       "</style>\n",
       "<table border=\"1\" class=\"dataframe\">\n",
       "  <thead>\n",
       "    <tr style=\"text-align: right;\">\n",
       "      <th></th>\n",
       "      <th>campaign_id</th>\n",
       "    </tr>\n",
       "  </thead>\n",
       "  <tbody>\n",
       "    <tr>\n",
       "      <th>0</th>\n",
       "      <td>1889</td>\n",
       "    </tr>\n",
       "    <tr>\n",
       "      <th>1</th>\n",
       "      <td>1890</td>\n",
       "    </tr>\n",
       "    <tr>\n",
       "      <th>2</th>\n",
       "      <td>1891</td>\n",
       "    </tr>\n",
       "    <tr>\n",
       "      <th>3</th>\n",
       "      <td>1892</td>\n",
       "    </tr>\n",
       "    <tr>\n",
       "      <th>4</th>\n",
       "      <td>1893</td>\n",
       "    </tr>\n",
       "    <tr>\n",
       "      <th>...</th>\n",
       "      <td>...</td>\n",
       "    </tr>\n",
       "    <tr>\n",
       "      <th>757</th>\n",
       "      <td>2646</td>\n",
       "    </tr>\n",
       "    <tr>\n",
       "      <th>758</th>\n",
       "      <td>2647</td>\n",
       "    </tr>\n",
       "    <tr>\n",
       "      <th>759</th>\n",
       "      <td>2648</td>\n",
       "    </tr>\n",
       "    <tr>\n",
       "      <th>760</th>\n",
       "      <td>2649</td>\n",
       "    </tr>\n",
       "    <tr>\n",
       "      <th>761</th>\n",
       "      <td>2650</td>\n",
       "    </tr>\n",
       "  </tbody>\n",
       "</table>\n",
       "<p>762 rows × 1 columns</p>\n",
       "</div>"
      ],
      "text/plain": [
       "     campaign_id\n",
       "0           1889\n",
       "1           1890\n",
       "2           1891\n",
       "3           1892\n",
       "4           1893\n",
       "..           ...\n",
       "757         2646\n",
       "758         2647\n",
       "759         2648\n",
       "760         2649\n",
       "761         2650\n",
       "\n",
       "[762 rows x 1 columns]"
      ]
     },
     "execution_count": 306,
     "metadata": {},
     "output_type": "execute_result"
    }
   ],
   "source": [
    "\n",
    "res1\n"
   ]
  },
  {
   "cell_type": "code",
   "execution_count": 305,
   "id": "ee1a3889",
   "metadata": {},
   "outputs": [
    {
     "data": {
      "text/html": [
       "<div>\n",
       "<style scoped>\n",
       "    .dataframe tbody tr th:only-of-type {\n",
       "        vertical-align: middle;\n",
       "    }\n",
       "\n",
       "    .dataframe tbody tr th {\n",
       "        vertical-align: top;\n",
       "    }\n",
       "\n",
       "    .dataframe thead th {\n",
       "        text-align: right;\n",
       "    }\n",
       "</style>\n",
       "<table border=\"1\" class=\"dataframe\">\n",
       "  <thead>\n",
       "    <tr style=\"text-align: right;\">\n",
       "      <th></th>\n",
       "      <th>0</th>\n",
       "    </tr>\n",
       "  </thead>\n",
       "  <tbody>\n",
       "    <tr>\n",
       "      <th>0</th>\n",
       "      <td>0.029970</td>\n",
       "    </tr>\n",
       "    <tr>\n",
       "      <th>1</th>\n",
       "      <td>0.585206</td>\n",
       "    </tr>\n",
       "    <tr>\n",
       "      <th>2</th>\n",
       "      <td>0.146897</td>\n",
       "    </tr>\n",
       "    <tr>\n",
       "      <th>3</th>\n",
       "      <td>0.143912</td>\n",
       "    </tr>\n",
       "    <tr>\n",
       "      <th>4</th>\n",
       "      <td>0.146726</td>\n",
       "    </tr>\n",
       "    <tr>\n",
       "      <th>...</th>\n",
       "      <td>...</td>\n",
       "    </tr>\n",
       "    <tr>\n",
       "      <th>757</th>\n",
       "      <td>0.008838</td>\n",
       "    </tr>\n",
       "    <tr>\n",
       "      <th>758</th>\n",
       "      <td>0.039192</td>\n",
       "    </tr>\n",
       "    <tr>\n",
       "      <th>759</th>\n",
       "      <td>0.035312</td>\n",
       "    </tr>\n",
       "    <tr>\n",
       "      <th>760</th>\n",
       "      <td>0.288899</td>\n",
       "    </tr>\n",
       "    <tr>\n",
       "      <th>761</th>\n",
       "      <td>0.010958</td>\n",
       "    </tr>\n",
       "  </tbody>\n",
       "</table>\n",
       "<p>762 rows × 1 columns</p>\n",
       "</div>"
      ],
      "text/plain": [
       "            0\n",
       "0    0.029970\n",
       "1    0.585206\n",
       "2    0.146897\n",
       "3    0.143912\n",
       "4    0.146726\n",
       "..        ...\n",
       "757  0.008838\n",
       "758  0.039192\n",
       "759  0.035312\n",
       "760  0.288899\n",
       "761  0.010958\n",
       "\n",
       "[762 rows x 1 columns]"
      ]
     },
     "execution_count": 305,
     "metadata": {},
     "output_type": "execute_result"
    }
   ],
   "source": [
    "res2"
   ]
  },
  {
   "cell_type": "code",
   "execution_count": 309,
   "id": "c0b145f3",
   "metadata": {},
   "outputs": [
    {
     "data": {
      "text/plain": [
       "(762, 1)"
      ]
     },
     "execution_count": 309,
     "metadata": {},
     "output_type": "execute_result"
    }
   ],
   "source": [
    "res1.shape"
   ]
  },
  {
   "cell_type": "code",
   "execution_count": 310,
   "id": "ad003eef",
   "metadata": {},
   "outputs": [
    {
     "data": {
      "text/plain": [
       "(762, 1)"
      ]
     },
     "execution_count": 310,
     "metadata": {},
     "output_type": "execute_result"
    }
   ],
   "source": [
    "res2.shape"
   ]
  },
  {
   "cell_type": "code",
   "execution_count": 314,
   "id": "6c49cc40",
   "metadata": {},
   "outputs": [],
   "source": [
    "  \n",
    "result = pd.concat([res1, res2], axis=1, join='inner')"
   ]
  },
  {
   "cell_type": "code",
   "execution_count": 318,
   "id": "0b0a22de",
   "metadata": {},
   "outputs": [],
   "source": [
    "result.rename(columns = {0:'click_rate'}, inplace = True)"
   ]
  },
  {
   "cell_type": "code",
   "execution_count": 319,
   "id": "4cffc907",
   "metadata": {},
   "outputs": [
    {
     "data": {
      "text/html": [
       "<div>\n",
       "<style scoped>\n",
       "    .dataframe tbody tr th:only-of-type {\n",
       "        vertical-align: middle;\n",
       "    }\n",
       "\n",
       "    .dataframe tbody tr th {\n",
       "        vertical-align: top;\n",
       "    }\n",
       "\n",
       "    .dataframe thead th {\n",
       "        text-align: right;\n",
       "    }\n",
       "</style>\n",
       "<table border=\"1\" class=\"dataframe\">\n",
       "  <thead>\n",
       "    <tr style=\"text-align: right;\">\n",
       "      <th></th>\n",
       "      <th>campaign_id</th>\n",
       "      <th>click_rate</th>\n",
       "    </tr>\n",
       "  </thead>\n",
       "  <tbody>\n",
       "    <tr>\n",
       "      <th>0</th>\n",
       "      <td>1889</td>\n",
       "      <td>0.029970</td>\n",
       "    </tr>\n",
       "    <tr>\n",
       "      <th>1</th>\n",
       "      <td>1890</td>\n",
       "      <td>0.585206</td>\n",
       "    </tr>\n",
       "    <tr>\n",
       "      <th>2</th>\n",
       "      <td>1891</td>\n",
       "      <td>0.146897</td>\n",
       "    </tr>\n",
       "    <tr>\n",
       "      <th>3</th>\n",
       "      <td>1892</td>\n",
       "      <td>0.143912</td>\n",
       "    </tr>\n",
       "    <tr>\n",
       "      <th>4</th>\n",
       "      <td>1893</td>\n",
       "      <td>0.146726</td>\n",
       "    </tr>\n",
       "    <tr>\n",
       "      <th>...</th>\n",
       "      <td>...</td>\n",
       "      <td>...</td>\n",
       "    </tr>\n",
       "    <tr>\n",
       "      <th>757</th>\n",
       "      <td>2646</td>\n",
       "      <td>0.008838</td>\n",
       "    </tr>\n",
       "    <tr>\n",
       "      <th>758</th>\n",
       "      <td>2647</td>\n",
       "      <td>0.039192</td>\n",
       "    </tr>\n",
       "    <tr>\n",
       "      <th>759</th>\n",
       "      <td>2648</td>\n",
       "      <td>0.035312</td>\n",
       "    </tr>\n",
       "    <tr>\n",
       "      <th>760</th>\n",
       "      <td>2649</td>\n",
       "      <td>0.288899</td>\n",
       "    </tr>\n",
       "    <tr>\n",
       "      <th>761</th>\n",
       "      <td>2650</td>\n",
       "      <td>0.010958</td>\n",
       "    </tr>\n",
       "  </tbody>\n",
       "</table>\n",
       "<p>762 rows × 2 columns</p>\n",
       "</div>"
      ],
      "text/plain": [
       "     campaign_id  click_rate\n",
       "0           1889    0.029970\n",
       "1           1890    0.585206\n",
       "2           1891    0.146897\n",
       "3           1892    0.143912\n",
       "4           1893    0.146726\n",
       "..           ...         ...\n",
       "757         2646    0.008838\n",
       "758         2647    0.039192\n",
       "759         2648    0.035312\n",
       "760         2649    0.288899\n",
       "761         2650    0.010958\n",
       "\n",
       "[762 rows x 2 columns]"
      ]
     },
     "execution_count": 319,
     "metadata": {},
     "output_type": "execute_result"
    }
   ],
   "source": [
    "result"
   ]
  },
  {
   "cell_type": "code",
   "execution_count": 322,
   "id": "0ecb347e",
   "metadata": {},
   "outputs": [],
   "source": [
    "result.to_csv('submit.csv',index=False)"
   ]
  },
  {
   "cell_type": "code",
   "execution_count": null,
   "id": "9e9ae89d",
   "metadata": {},
   "outputs": [],
   "source": []
  }
 ],
 "metadata": {
  "kernelspec": {
   "display_name": "Python 3",
   "language": "python",
   "name": "python3"
  },
  "language_info": {
   "codemirror_mode": {
    "name": "ipython",
    "version": 3
   },
   "file_extension": ".py",
   "mimetype": "text/x-python",
   "name": "python",
   "nbconvert_exporter": "python",
   "pygments_lexer": "ipython3",
   "version": "3.8.8"
  }
 },
 "nbformat": 4,
 "nbformat_minor": 5
}
